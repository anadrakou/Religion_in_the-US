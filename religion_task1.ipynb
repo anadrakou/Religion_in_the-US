{
 "cells": [
  {
   "cell_type": "markdown",
   "metadata": {},
   "source": [
    "## **Dataset 2** \n",
    "\n",
    "In the following dataset we have a list of attributes related to religious denominations and their membership and church counts in 1952, organized by county and state. Each attribute represents the number of members and churches for a specific denomination"
   ]
  },
  {
   "cell_type": "markdown",
   "metadata": {},
   "source": [
    "### Import libraries"
   ]
  },
  {
   "cell_type": "code",
   "execution_count": 1,
   "metadata": {},
   "outputs": [],
   "source": [
    "import pandas as pd\n",
    "from IPython.display import display"
   ]
  },
  {
   "cell_type": "markdown",
   "metadata": {},
   "source": [
    "### Insert Dataset"
   ]
  },
  {
   "cell_type": "code",
   "execution_count": 2,
   "metadata": {},
   "outputs": [],
   "source": [
    "csv_file = 'datasets/1952.csv'\n",
    "religion = pd.read_csv(csv_file)"
   ]
  },
  {
   "cell_type": "markdown",
   "metadata": {},
   "source": [
    "### **Task 1 :** Get to know our data\n",
    "Firstly, let's take a look at the dataset and comprehend the information it provides."
   ]
  },
  {
   "cell_type": "code",
   "execution_count": 3,
   "metadata": {},
   "outputs": [
    {
     "data": {
      "text/html": [
       "<div>\n",
       "<style scoped>\n",
       "    .dataframe tbody tr th:only-of-type {\n",
       "        vertical-align: middle;\n",
       "    }\n",
       "\n",
       "    .dataframe tbody tr th {\n",
       "        vertical-align: top;\n",
       "    }\n",
       "\n",
       "    .dataframe thead th {\n",
       "        text-align: right;\n",
       "    }\n",
       "</style>\n",
       "<table border=\"1\" class=\"dataframe\">\n",
       "  <thead>\n",
       "    <tr style=\"text-align: right;\">\n",
       "      <th></th>\n",
       "      <th>CaseID$</th>\n",
       "      <th>CNAME</th>\n",
       "      <th>STCODE</th>\n",
       "      <th>CCODE</th>\n",
       "      <th>TOTPOP</th>\n",
       "      <th>TOTMEMB</th>\n",
       "      <th>TOTCHUR</th>\n",
       "      <th>SDA_M</th>\n",
       "      <th>SDA_C</th>\n",
       "      <th>AOG_M</th>\n",
       "      <th>...</th>\n",
       "      <th>UCHRC_M</th>\n",
       "      <th>UCHRC_C</th>\n",
       "      <th>UCA_M</th>\n",
       "      <th>UCA_C</th>\n",
       "      <th>VEDS_M</th>\n",
       "      <th>VEDS_C</th>\n",
       "      <th>VLNTR_M</th>\n",
       "      <th>VLNTR_C</th>\n",
       "      <th>CGP_M</th>\n",
       "      <th>CGP_C</th>\n",
       "    </tr>\n",
       "  </thead>\n",
       "  <tbody>\n",
       "    <tr>\n",
       "      <th>0</th>\n",
       "      <td>33</td>\n",
       "      <td>Hale, AL</td>\n",
       "      <td>1</td>\n",
       "      <td>65</td>\n",
       "      <td>20832</td>\n",
       "      <td>5145</td>\n",
       "      <td>52</td>\n",
       "      <td>0</td>\n",
       "      <td>0</td>\n",
       "      <td>0</td>\n",
       "      <td>...</td>\n",
       "      <td>0</td>\n",
       "      <td>0</td>\n",
       "      <td>0</td>\n",
       "      <td>0</td>\n",
       "      <td>0</td>\n",
       "      <td>0</td>\n",
       "      <td>0</td>\n",
       "      <td>0</td>\n",
       "      <td>0</td>\n",
       "      <td>0</td>\n",
       "    </tr>\n",
       "    <tr>\n",
       "      <th>1</th>\n",
       "      <td>34</td>\n",
       "      <td>Henry, AL</td>\n",
       "      <td>1</td>\n",
       "      <td>67</td>\n",
       "      <td>18674</td>\n",
       "      <td>4773</td>\n",
       "      <td>31</td>\n",
       "      <td>0</td>\n",
       "      <td>0</td>\n",
       "      <td>23</td>\n",
       "      <td>...</td>\n",
       "      <td>0</td>\n",
       "      <td>0</td>\n",
       "      <td>0</td>\n",
       "      <td>0</td>\n",
       "      <td>0</td>\n",
       "      <td>0</td>\n",
       "      <td>0</td>\n",
       "      <td>0</td>\n",
       "      <td>0</td>\n",
       "      <td>0</td>\n",
       "    </tr>\n",
       "    <tr>\n",
       "      <th>2</th>\n",
       "      <td>35</td>\n",
       "      <td>Houston, AL</td>\n",
       "      <td>1</td>\n",
       "      <td>69</td>\n",
       "      <td>46522</td>\n",
       "      <td>19420</td>\n",
       "      <td>88</td>\n",
       "      <td>87</td>\n",
       "      <td>2</td>\n",
       "      <td>379</td>\n",
       "      <td>...</td>\n",
       "      <td>0</td>\n",
       "      <td>0</td>\n",
       "      <td>0</td>\n",
       "      <td>0</td>\n",
       "      <td>0</td>\n",
       "      <td>0</td>\n",
       "      <td>0</td>\n",
       "      <td>0</td>\n",
       "      <td>0</td>\n",
       "      <td>0</td>\n",
       "    </tr>\n",
       "    <tr>\n",
       "      <th>3</th>\n",
       "      <td>36</td>\n",
       "      <td>Jackson, AL</td>\n",
       "      <td>1</td>\n",
       "      <td>71</td>\n",
       "      <td>38998</td>\n",
       "      <td>9030</td>\n",
       "      <td>82</td>\n",
       "      <td>110</td>\n",
       "      <td>1</td>\n",
       "      <td>0</td>\n",
       "      <td>...</td>\n",
       "      <td>0</td>\n",
       "      <td>0</td>\n",
       "      <td>0</td>\n",
       "      <td>0</td>\n",
       "      <td>0</td>\n",
       "      <td>0</td>\n",
       "      <td>0</td>\n",
       "      <td>0</td>\n",
       "      <td>0</td>\n",
       "      <td>0</td>\n",
       "    </tr>\n",
       "    <tr>\n",
       "      <th>4</th>\n",
       "      <td>37</td>\n",
       "      <td>Jefferson, AL</td>\n",
       "      <td>1</td>\n",
       "      <td>73</td>\n",
       "      <td>558928</td>\n",
       "      <td>212326</td>\n",
       "      <td>595</td>\n",
       "      <td>991</td>\n",
       "      <td>4</td>\n",
       "      <td>648</td>\n",
       "      <td>...</td>\n",
       "      <td>0</td>\n",
       "      <td>0</td>\n",
       "      <td>0</td>\n",
       "      <td>0</td>\n",
       "      <td>0</td>\n",
       "      <td>0</td>\n",
       "      <td>0</td>\n",
       "      <td>0</td>\n",
       "      <td>454</td>\n",
       "      <td>11</td>\n",
       "    </tr>\n",
       "    <tr>\n",
       "      <th>...</th>\n",
       "      <td>...</td>\n",
       "      <td>...</td>\n",
       "      <td>...</td>\n",
       "      <td>...</td>\n",
       "      <td>...</td>\n",
       "      <td>...</td>\n",
       "      <td>...</td>\n",
       "      <td>...</td>\n",
       "      <td>...</td>\n",
       "      <td>...</td>\n",
       "      <td>...</td>\n",
       "      <td>...</td>\n",
       "      <td>...</td>\n",
       "      <td>...</td>\n",
       "      <td>...</td>\n",
       "      <td>...</td>\n",
       "      <td>...</td>\n",
       "      <td>...</td>\n",
       "      <td>...</td>\n",
       "      <td>...</td>\n",
       "      <td>...</td>\n",
       "    </tr>\n",
       "    <tr>\n",
       "      <th>3070</th>\n",
       "      <td>3071</td>\n",
       "      <td>Teton, WY</td>\n",
       "      <td>56</td>\n",
       "      <td>39</td>\n",
       "      <td>2593</td>\n",
       "      <td>968</td>\n",
       "      <td>3</td>\n",
       "      <td>0</td>\n",
       "      <td>0</td>\n",
       "      <td>10</td>\n",
       "      <td>...</td>\n",
       "      <td>0</td>\n",
       "      <td>0</td>\n",
       "      <td>0</td>\n",
       "      <td>0</td>\n",
       "      <td>0</td>\n",
       "      <td>0</td>\n",
       "      <td>0</td>\n",
       "      <td>0</td>\n",
       "      <td>0</td>\n",
       "      <td>0</td>\n",
       "    </tr>\n",
       "    <tr>\n",
       "      <th>3071</th>\n",
       "      <td>3072</td>\n",
       "      <td>Uinta, WY</td>\n",
       "      <td>56</td>\n",
       "      <td>41</td>\n",
       "      <td>7331</td>\n",
       "      <td>3817</td>\n",
       "      <td>8</td>\n",
       "      <td>0</td>\n",
       "      <td>0</td>\n",
       "      <td>5</td>\n",
       "      <td>...</td>\n",
       "      <td>0</td>\n",
       "      <td>0</td>\n",
       "      <td>0</td>\n",
       "      <td>0</td>\n",
       "      <td>0</td>\n",
       "      <td>0</td>\n",
       "      <td>0</td>\n",
       "      <td>0</td>\n",
       "      <td>0</td>\n",
       "      <td>0</td>\n",
       "    </tr>\n",
       "    <tr>\n",
       "      <th>3072</th>\n",
       "      <td>3073</td>\n",
       "      <td>Washakie, WY</td>\n",
       "      <td>56</td>\n",
       "      <td>43</td>\n",
       "      <td>7252</td>\n",
       "      <td>2378</td>\n",
       "      <td>15</td>\n",
       "      <td>70</td>\n",
       "      <td>3</td>\n",
       "      <td>90</td>\n",
       "      <td>...</td>\n",
       "      <td>0</td>\n",
       "      <td>0</td>\n",
       "      <td>0</td>\n",
       "      <td>0</td>\n",
       "      <td>0</td>\n",
       "      <td>0</td>\n",
       "      <td>0</td>\n",
       "      <td>0</td>\n",
       "      <td>0</td>\n",
       "      <td>0</td>\n",
       "    </tr>\n",
       "    <tr>\n",
       "      <th>3073</th>\n",
       "      <td>3074</td>\n",
       "      <td>Weston, WY</td>\n",
       "      <td>56</td>\n",
       "      <td>45</td>\n",
       "      <td>6733</td>\n",
       "      <td>2025</td>\n",
       "      <td>13</td>\n",
       "      <td>92</td>\n",
       "      <td>2</td>\n",
       "      <td>69</td>\n",
       "      <td>...</td>\n",
       "      <td>0</td>\n",
       "      <td>0</td>\n",
       "      <td>0</td>\n",
       "      <td>0</td>\n",
       "      <td>0</td>\n",
       "      <td>0</td>\n",
       "      <td>0</td>\n",
       "      <td>0</td>\n",
       "      <td>0</td>\n",
       "      <td>0</td>\n",
       "    </tr>\n",
       "    <tr>\n",
       "      <th>3074</th>\n",
       "      <td>3075</td>\n",
       "      <td>Yellowstone National Park, WY</td>\n",
       "      <td>56</td>\n",
       "      <td>47</td>\n",
       "      <td>353</td>\n",
       "      <td>0</td>\n",
       "      <td>0</td>\n",
       "      <td>0</td>\n",
       "      <td>0</td>\n",
       "      <td>0</td>\n",
       "      <td>...</td>\n",
       "      <td>0</td>\n",
       "      <td>0</td>\n",
       "      <td>0</td>\n",
       "      <td>0</td>\n",
       "      <td>0</td>\n",
       "      <td>0</td>\n",
       "      <td>0</td>\n",
       "      <td>0</td>\n",
       "      <td>0</td>\n",
       "      <td>0</td>\n",
       "    </tr>\n",
       "  </tbody>\n",
       "</table>\n",
       "<p>3075 rows × 235 columns</p>\n",
       "</div>"
      ],
      "text/plain": [
       "      CaseID$                          CNAME  STCODE  CCODE  TOTPOP  TOTMEMB  \\\n",
       "0          33                       Hale, AL       1     65   20832     5145   \n",
       "1          34                      Henry, AL       1     67   18674     4773   \n",
       "2          35                    Houston, AL       1     69   46522    19420   \n",
       "3          36                    Jackson, AL       1     71   38998     9030   \n",
       "4          37                  Jefferson, AL       1     73  558928   212326   \n",
       "...       ...                            ...     ...    ...     ...      ...   \n",
       "3070     3071                      Teton, WY      56     39    2593      968   \n",
       "3071     3072                      Uinta, WY      56     41    7331     3817   \n",
       "3072     3073                   Washakie, WY      56     43    7252     2378   \n",
       "3073     3074                     Weston, WY      56     45    6733     2025   \n",
       "3074     3075  Yellowstone National Park, WY      56     47     353        0   \n",
       "\n",
       "      TOTCHUR  SDA_M  SDA_C  AOG_M  ...  UCHRC_M  UCHRC_C  UCA_M  UCA_C  \\\n",
       "0          52      0      0      0  ...        0        0      0      0   \n",
       "1          31      0      0     23  ...        0        0      0      0   \n",
       "2          88     87      2    379  ...        0        0      0      0   \n",
       "3          82    110      1      0  ...        0        0      0      0   \n",
       "4         595    991      4    648  ...        0        0      0      0   \n",
       "...       ...    ...    ...    ...  ...      ...      ...    ...    ...   \n",
       "3070        3      0      0     10  ...        0        0      0      0   \n",
       "3071        8      0      0      5  ...        0        0      0      0   \n",
       "3072       15     70      3     90  ...        0        0      0      0   \n",
       "3073       13     92      2     69  ...        0        0      0      0   \n",
       "3074        0      0      0      0  ...        0        0      0      0   \n",
       "\n",
       "      VEDS_M  VEDS_C  VLNTR_M  VLNTR_C  CGP_M  CGP_C  \n",
       "0          0       0        0        0      0      0  \n",
       "1          0       0        0        0      0      0  \n",
       "2          0       0        0        0      0      0  \n",
       "3          0       0        0        0      0      0  \n",
       "4          0       0        0        0    454     11  \n",
       "...      ...     ...      ...      ...    ...    ...  \n",
       "3070       0       0        0        0      0      0  \n",
       "3071       0       0        0        0      0      0  \n",
       "3072       0       0        0        0      0      0  \n",
       "3073       0       0        0        0      0      0  \n",
       "3074       0       0        0        0      0      0  \n",
       "\n",
       "[3075 rows x 235 columns]"
      ]
     },
     "execution_count": 3,
     "metadata": {},
     "output_type": "execute_result"
    }
   ],
   "source": [
    "religion"
   ]
  },
  {
   "cell_type": "markdown",
   "metadata": {},
   "source": [
    "Based on the tasks below we will use the first 6 attribute , which are dimographic information about the religions dataset:      \n",
    "\n",
    "\n",
    "\n",
    "* CNAME = County Name\n",
    "\n",
    "\n",
    "* STCODE = State Census Code\n",
    "\n",
    "\n",
    "* CCODE = County Census Code\n",
    "\n",
    "\n",
    "* TOTPOP = Total Population in 1952\n",
    "\n",
    "\n",
    "* TOTMEMB = Total number of members in 1952   \n",
    "\n",
    "\n",
    "* TOTCHUR = Total Number of churches in 1952\n",
    "\n",
    "The remaining 228 attributes contain data on the number of members and churches of each religion. 'M' is for the members and 'C' is for the churches of each religion."
   ]
  },
  {
   "cell_type": "code",
   "execution_count": 4,
   "metadata": {},
   "outputs": [
    {
     "name": "stdout",
     "output_type": "stream",
     "text": [
      "Above it is displayed of the statistical summaries of three important attributes.\n"
     ]
    },
    {
     "data": {
      "text/html": [
       "<div>\n",
       "<style scoped>\n",
       "    .dataframe tbody tr th:only-of-type {\n",
       "        vertical-align: middle;\n",
       "    }\n",
       "\n",
       "    .dataframe tbody tr th {\n",
       "        vertical-align: top;\n",
       "    }\n",
       "\n",
       "    .dataframe thead th {\n",
       "        text-align: right;\n",
       "    }\n",
       "</style>\n",
       "<table border=\"1\" class=\"dataframe\">\n",
       "  <thead>\n",
       "    <tr style=\"text-align: right;\">\n",
       "      <th></th>\n",
       "      <th>TOTPOP</th>\n",
       "      <th>TOTCHUR</th>\n",
       "      <th>TOTMEMB</th>\n",
       "    </tr>\n",
       "  </thead>\n",
       "  <tbody>\n",
       "    <tr>\n",
       "      <th>count</th>\n",
       "      <td>3.075000e+03</td>\n",
       "      <td>3075.000000</td>\n",
       "      <td>3.075000e+03</td>\n",
       "    </tr>\n",
       "    <tr>\n",
       "      <th>mean</th>\n",
       "      <td>4.898718e+04</td>\n",
       "      <td>59.465366</td>\n",
       "      <td>2.410584e+04</td>\n",
       "    </tr>\n",
       "    <tr>\n",
       "      <th>std</th>\n",
       "      <td>1.698913e+05</td>\n",
       "      <td>80.284820</td>\n",
       "      <td>9.496974e+04</td>\n",
       "    </tr>\n",
       "    <tr>\n",
       "      <th>min</th>\n",
       "      <td>5.200000e+01</td>\n",
       "      <td>0.000000</td>\n",
       "      <td>0.000000e+00</td>\n",
       "    </tr>\n",
       "    <tr>\n",
       "      <th>25%</th>\n",
       "      <td>1.000850e+04</td>\n",
       "      <td>24.000000</td>\n",
       "      <td>4.006500e+03</td>\n",
       "    </tr>\n",
       "    <tr>\n",
       "      <th>50%</th>\n",
       "      <td>1.876000e+04</td>\n",
       "      <td>42.000000</td>\n",
       "      <td>7.905000e+03</td>\n",
       "    </tr>\n",
       "    <tr>\n",
       "      <th>75%</th>\n",
       "      <td>3.584500e+04</td>\n",
       "      <td>68.000000</td>\n",
       "      <td>1.589350e+04</td>\n",
       "    </tr>\n",
       "    <tr>\n",
       "      <th>max</th>\n",
       "      <td>4.508792e+06</td>\n",
       "      <td>1939.000000</td>\n",
       "      <td>2.685524e+06</td>\n",
       "    </tr>\n",
       "  </tbody>\n",
       "</table>\n",
       "</div>"
      ],
      "text/plain": [
       "             TOTPOP      TOTCHUR       TOTMEMB\n",
       "count  3.075000e+03  3075.000000  3.075000e+03\n",
       "mean   4.898718e+04    59.465366  2.410584e+04\n",
       "std    1.698913e+05    80.284820  9.496974e+04\n",
       "min    5.200000e+01     0.000000  0.000000e+00\n",
       "25%    1.000850e+04    24.000000  4.006500e+03\n",
       "50%    1.876000e+04    42.000000  7.905000e+03\n",
       "75%    3.584500e+04    68.000000  1.589350e+04\n",
       "max    4.508792e+06  1939.000000  2.685524e+06"
      ]
     },
     "execution_count": 4,
     "metadata": {},
     "output_type": "execute_result"
    }
   ],
   "source": [
    "print('Above it is displayed of the statistical summaries of three important attributes.')\n",
    "religion[['TOTPOP','TOTCHUR','TOTMEMB']].describe()"
   ]
  },
  {
   "cell_type": "code",
   "execution_count": 5,
   "metadata": {},
   "outputs": [
    {
     "name": "stdout",
     "output_type": "stream",
     "text": [
      "The data types of the religions are:\n",
      "\n",
      "<class 'pandas.core.frame.DataFrame'>\n",
      "RangeIndex: 3075 entries, 0 to 3074\n",
      "Columns: 235 entries, CaseID$ to CGP_C\n",
      "dtypes: int64(234), object(1)\n",
      "memory usage: 5.5+ MB\n"
     ]
    },
    {
     "data": {
      "text/plain": [
       "None"
      ]
     },
     "metadata": {},
     "output_type": "display_data"
    }
   ],
   "source": [
    "print(\"The data types of the religions are:\\n\")\n",
    "display(religion.info())"
   ]
  },
  {
   "cell_type": "code",
   "execution_count": 6,
   "metadata": {},
   "outputs": [
    {
     "data": {
      "text/plain": [
       "CaseID$     int64\n",
       "CNAME      object\n",
       "STCODE      int64\n",
       "CCODE       int64\n",
       "TOTPOP      int64\n",
       "            ...  \n",
       "VEDS_C      int64\n",
       "VLNTR_M     int64\n",
       "VLNTR_C     int64\n",
       "CGP_M       int64\n",
       "CGP_C       int64\n",
       "Length: 235, dtype: object"
      ]
     },
     "execution_count": 6,
     "metadata": {},
     "output_type": "execute_result"
    }
   ],
   "source": [
    "religion.dtypes"
   ]
  },
  {
   "cell_type": "code",
   "execution_count": 7,
   "metadata": {},
   "outputs": [
    {
     "name": "stdout",
     "output_type": "stream",
     "text": [
      "Let's study the type of features available.\n",
      "CaseID$    3075\n",
      "CNAME      3075\n",
      "STCODE       49\n",
      "CCODE       258\n",
      "TOTPOP     2986\n",
      "           ... \n",
      "VEDS_C        3\n",
      "VLNTR_M      36\n",
      "VLNTR_C       6\n",
      "CGP_M       147\n",
      "CGP_C        11\n",
      "Length: 235, dtype: int64\n",
      "After taking a look at the features, we can see that all of them are continuous\n"
     ]
    }
   ],
   "source": [
    "print(\"Let's study the type of features available.\")\n",
    "print(religion.nunique())\n",
    "print(\"After taking a look at the features, we can see that all of them are continuous\")"
   ]
  },
  {
   "cell_type": "code",
   "execution_count": 8,
   "metadata": {},
   "outputs": [
    {
     "name": "stdout",
     "output_type": "stream",
     "text": [
      "The dataset consists of  3075 rows and 235 columns.\n"
     ]
    },
    {
     "data": {
      "text/plain": [
       "(3075, 235)"
      ]
     },
     "execution_count": 8,
     "metadata": {},
     "output_type": "execute_result"
    }
   ],
   "source": [
    "print(\"The dataset consists of  3075 rows and 235 columns.\")\n",
    "religion.shape"
   ]
  },
  {
   "cell_type": "code",
   "execution_count": 9,
   "metadata": {},
   "outputs": [
    {
     "name": "stdout",
     "output_type": "stream",
     "text": [
      "Next, let's check if there are any missing values.\n"
     ]
    },
    {
     "data": {
      "text/plain": [
       "False"
      ]
     },
     "metadata": {},
     "output_type": "display_data"
    }
   ],
   "source": [
    "print(\"Next, let's check if there are any missing values.\")\n",
    "display(religion.isnull().sum().any())"
   ]
  },
  {
   "cell_type": "code",
   "execution_count": 10,
   "metadata": {},
   "outputs": [
    {
     "name": "stdout",
     "output_type": "stream",
     "text": [
      "Next, let's check if there are any duplicate values.\n"
     ]
    },
    {
     "data": {
      "text/plain": [
       "0"
      ]
     },
     "metadata": {},
     "output_type": "display_data"
    }
   ],
   "source": [
    "print(\"Next, let's check if there are any duplicate values.\")\n",
    "check_for_duplicates=religion.iloc[:, 1:]\n",
    "display(check_for_duplicates.duplicated().sum())"
   ]
  }
 ],
 "metadata": {
  "kernelspec": {
   "display_name": "Python 3",
   "language": "python",
   "name": "python3"
  },
  "language_info": {
   "codemirror_mode": {
    "name": "ipython",
    "version": 3
   },
   "file_extension": ".py",
   "mimetype": "text/x-python",
   "name": "python",
   "nbconvert_exporter": "python",
   "pygments_lexer": "ipython3",
   "version": "3.12.0"
  }
 },
 "nbformat": 4,
 "nbformat_minor": 2
}
