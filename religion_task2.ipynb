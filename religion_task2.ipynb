{
 "cells": [
  {
   "cell_type": "markdown",
   "metadata": {},
   "source": [
    "## **Dataset 2** \n",
    "\n",
    "In the following dataset we have a list of attributes related to religious denominations and their membership and church counts in 1952, organized by county and state. Each attribute represents the number of members and churches for a specific denomination"
   ]
  },
  {
   "cell_type": "markdown",
   "metadata": {},
   "source": [
    "#### Import libraries"
   ]
  },
  {
   "cell_type": "code",
   "execution_count": 1,
   "metadata": {},
   "outputs": [],
   "source": [
    "import plotly.express as px\n",
    "from plotly.subplots import make_subplots  \n",
    "import plotly.graph_objects as go\n",
    "import pandas as pd\n",
    "import geopandas as gpd\n",
    "import numpy as np\n",
    "import folium\n",
    "from folium.features import GeoJsonTooltip\n",
    "from IPython.display import display, Image\n",
    "import gc"
   ]
  },
  {
   "cell_type": "markdown",
   "metadata": {},
   "source": [
    "#### Insert dataset"
   ]
  },
  {
   "cell_type": "code",
   "execution_count": 2,
   "metadata": {},
   "outputs": [],
   "source": [
    "csv_file = 'datasets/1952.csv'\n",
    "religion = pd.read_csv(csv_file)"
   ]
  },
  {
   "cell_type": "markdown",
   "metadata": {},
   "source": [
    "### **Task 2** :  Summarize the data to help understand the overall picture of religious groups over the US \n",
    "First we will make some groopings to understand the importance of attributes \n",
    "\n",
    "- **Grouping by State (STCODE)**: We group the data by state to analyze the religious demographics and distribution of denominations across different states."
   ]
  },
  {
   "cell_type": "code",
   "execution_count": 3,
   "metadata": {},
   "outputs": [
    {
     "name": "stdout",
     "output_type": "stream",
     "text": [
      "TOTPOP_RATE represents the percentage of the total population for each state. \n",
      " TOTMEMB_RATE represents the percentage of the total members/believers for each state.\n",
      "TOTCHUR_RATE represents the percentage of the total churches for each state. \n",
      " %_OF_BELIEVERS represents the total members/believers for each state for the total population of each state.\n",
      "Let's have a look at the new dataset.\n"
     ]
    },
    {
     "data": {
      "text/html": [
       "<div>\n",
       "<style scoped>\n",
       "    .dataframe tbody tr th:only-of-type {\n",
       "        vertical-align: middle;\n",
       "    }\n",
       "\n",
       "    .dataframe tbody tr th {\n",
       "        vertical-align: top;\n",
       "    }\n",
       "\n",
       "    .dataframe thead th {\n",
       "        text-align: right;\n",
       "    }\n",
       "</style>\n",
       "<table border=\"1\" class=\"dataframe\">\n",
       "  <thead>\n",
       "    <tr style=\"text-align: right;\">\n",
       "      <th></th>\n",
       "      <th>STCODE</th>\n",
       "      <th>TOTPOP</th>\n",
       "      <th>TOTMEMB</th>\n",
       "      <th>TOTCHUR</th>\n",
       "      <th>TOTPOP_RATE</th>\n",
       "      <th>TOTMEMB_RATE</th>\n",
       "      <th>TOTCHUR_RATE</th>\n",
       "      <th>%_OF_BELIEVERS</th>\n",
       "    </tr>\n",
       "  </thead>\n",
       "  <tbody>\n",
       "    <tr>\n",
       "      <th>0</th>\n",
       "      <td>1</td>\n",
       "      <td>3061743</td>\n",
       "      <td>1046460</td>\n",
       "      <td>5620</td>\n",
       "      <td>2.032550</td>\n",
       "      <td>1.411742</td>\n",
       "      <td>3.073457</td>\n",
       "      <td>34.178571</td>\n",
       "    </tr>\n",
       "    <tr>\n",
       "      <th>1</th>\n",
       "      <td>4</td>\n",
       "      <td>749587</td>\n",
       "      <td>336938</td>\n",
       "      <td>767</td>\n",
       "      <td>0.497616</td>\n",
       "      <td>0.454551</td>\n",
       "      <td>0.419456</td>\n",
       "      <td>44.949819</td>\n",
       "    </tr>\n",
       "    <tr>\n",
       "      <th>2</th>\n",
       "      <td>5</td>\n",
       "      <td>1909511</td>\n",
       "      <td>598593</td>\n",
       "      <td>3715</td>\n",
       "      <td>1.267636</td>\n",
       "      <td>0.807540</td>\n",
       "      <td>2.031653</td>\n",
       "      <td>31.347973</td>\n",
       "    </tr>\n",
       "    <tr>\n",
       "      <th>3</th>\n",
       "      <td>6</td>\n",
       "      <td>10586223</td>\n",
       "      <td>4306690</td>\n",
       "      <td>6794</td>\n",
       "      <td>7.027704</td>\n",
       "      <td>5.810001</td>\n",
       "      <td>3.715492</td>\n",
       "      <td>40.682026</td>\n",
       "    </tr>\n",
       "    <tr>\n",
       "      <th>4</th>\n",
       "      <td>8</td>\n",
       "      <td>1325089</td>\n",
       "      <td>550993</td>\n",
       "      <td>1578</td>\n",
       "      <td>0.879665</td>\n",
       "      <td>0.743325</td>\n",
       "      <td>0.862974</td>\n",
       "      <td>41.581584</td>\n",
       "    </tr>\n",
       "    <tr>\n",
       "      <th>5</th>\n",
       "      <td>9</td>\n",
       "      <td>2007280</td>\n",
       "      <td>1215346</td>\n",
       "      <td>1363</td>\n",
       "      <td>1.332540</td>\n",
       "      <td>1.639580</td>\n",
       "      <td>0.745395</td>\n",
       "      <td>60.546909</td>\n",
       "    </tr>\n",
       "    <tr>\n",
       "      <th>6</th>\n",
       "      <td>10</td>\n",
       "      <td>318085</td>\n",
       "      <td>140847</td>\n",
       "      <td>490</td>\n",
       "      <td>0.211162</td>\n",
       "      <td>0.190012</td>\n",
       "      <td>0.267970</td>\n",
       "      <td>44.279674</td>\n",
       "    </tr>\n",
       "    <tr>\n",
       "      <th>7</th>\n",
       "      <td>11</td>\n",
       "      <td>802178</td>\n",
       "      <td>374215</td>\n",
       "      <td>389</td>\n",
       "      <td>0.532529</td>\n",
       "      <td>0.504840</td>\n",
       "      <td>0.212736</td>\n",
       "      <td>46.649871</td>\n",
       "    </tr>\n",
       "    <tr>\n",
       "      <th>8</th>\n",
       "      <td>12</td>\n",
       "      <td>2771305</td>\n",
       "      <td>1007983</td>\n",
       "      <td>3528</td>\n",
       "      <td>1.839741</td>\n",
       "      <td>1.359834</td>\n",
       "      <td>1.929387</td>\n",
       "      <td>36.372142</td>\n",
       "    </tr>\n",
       "    <tr>\n",
       "      <th>9</th>\n",
       "      <td>13</td>\n",
       "      <td>3444578</td>\n",
       "      <td>1319460</td>\n",
       "      <td>5749</td>\n",
       "      <td>2.286696</td>\n",
       "      <td>1.780036</td>\n",
       "      <td>3.144004</td>\n",
       "      <td>38.305418</td>\n",
       "    </tr>\n",
       "    <tr>\n",
       "      <th>10</th>\n",
       "      <td>16</td>\n",
       "      <td>588637</td>\n",
       "      <td>259547</td>\n",
       "      <td>658</td>\n",
       "      <td>0.390769</td>\n",
       "      <td>0.350146</td>\n",
       "      <td>0.359846</td>\n",
       "      <td>44.092879</td>\n",
       "    </tr>\n",
       "    <tr>\n",
       "      <th>11</th>\n",
       "      <td>17</td>\n",
       "      <td>8712176</td>\n",
       "      <td>4670691</td>\n",
       "      <td>8265</td>\n",
       "      <td>5.783611</td>\n",
       "      <td>6.301062</td>\n",
       "      <td>4.519950</td>\n",
       "      <td>53.611073</td>\n",
       "    </tr>\n",
       "    <tr>\n",
       "      <th>12</th>\n",
       "      <td>18</td>\n",
       "      <td>3934224</td>\n",
       "      <td>1715289</td>\n",
       "      <td>6164</td>\n",
       "      <td>2.611750</td>\n",
       "      <td>2.314035</td>\n",
       "      <td>3.370959</td>\n",
       "      <td>43.599170</td>\n",
       "    </tr>\n",
       "    <tr>\n",
       "      <th>13</th>\n",
       "      <td>19</td>\n",
       "      <td>2621073</td>\n",
       "      <td>1404005</td>\n",
       "      <td>4593</td>\n",
       "      <td>1.740009</td>\n",
       "      <td>1.894093</td>\n",
       "      <td>2.511813</td>\n",
       "      <td>53.566040</td>\n",
       "    </tr>\n",
       "    <tr>\n",
       "      <th>14</th>\n",
       "      <td>20</td>\n",
       "      <td>1905299</td>\n",
       "      <td>887643</td>\n",
       "      <td>3727</td>\n",
       "      <td>1.264840</td>\n",
       "      <td>1.197487</td>\n",
       "      <td>2.038216</td>\n",
       "      <td>46.588121</td>\n",
       "    </tr>\n",
       "    <tr>\n",
       "      <th>15</th>\n",
       "      <td>21</td>\n",
       "      <td>2944806</td>\n",
       "      <td>1320412</td>\n",
       "      <td>5733</td>\n",
       "      <td>1.954921</td>\n",
       "      <td>1.781320</td>\n",
       "      <td>3.135254</td>\n",
       "      <td>44.838675</td>\n",
       "    </tr>\n",
       "    <tr>\n",
       "      <th>16</th>\n",
       "      <td>22</td>\n",
       "      <td>2683516</td>\n",
       "      <td>1440910</td>\n",
       "      <td>3004</td>\n",
       "      <td>1.781462</td>\n",
       "      <td>1.943880</td>\n",
       "      <td>1.642823</td>\n",
       "      <td>53.694854</td>\n",
       "    </tr>\n",
       "    <tr>\n",
       "      <th>17</th>\n",
       "      <td>23</td>\n",
       "      <td>913774</td>\n",
       "      <td>376705</td>\n",
       "      <td>1295</td>\n",
       "      <td>0.606612</td>\n",
       "      <td>0.508199</td>\n",
       "      <td>0.708208</td>\n",
       "      <td>41.225183</td>\n",
       "    </tr>\n",
       "    <tr>\n",
       "      <th>18</th>\n",
       "      <td>24</td>\n",
       "      <td>2343001</td>\n",
       "      <td>1118039</td>\n",
       "      <td>2466</td>\n",
       "      <td>1.555410</td>\n",
       "      <td>1.508306</td>\n",
       "      <td>1.348602</td>\n",
       "      <td>47.718247</td>\n",
       "    </tr>\n",
       "    <tr>\n",
       "      <th>19</th>\n",
       "      <td>25</td>\n",
       "      <td>4690514</td>\n",
       "      <td>3145023</td>\n",
       "      <td>2848</td>\n",
       "      <td>3.113816</td>\n",
       "      <td>4.242838</td>\n",
       "      <td>1.557510</td>\n",
       "      <td>67.050711</td>\n",
       "    </tr>\n",
       "    <tr>\n",
       "      <th>20</th>\n",
       "      <td>26</td>\n",
       "      <td>6371766</td>\n",
       "      <td>2693781</td>\n",
       "      <td>5573</td>\n",
       "      <td>4.229921</td>\n",
       "      <td>3.634083</td>\n",
       "      <td>3.047753</td>\n",
       "      <td>42.276835</td>\n",
       "    </tr>\n",
       "    <tr>\n",
       "      <th>21</th>\n",
       "      <td>27</td>\n",
       "      <td>2982483</td>\n",
       "      <td>1836015</td>\n",
       "      <td>4399</td>\n",
       "      <td>1.979933</td>\n",
       "      <td>2.476902</td>\n",
       "      <td>2.405718</td>\n",
       "      <td>61.559949</td>\n",
       "    </tr>\n",
       "    <tr>\n",
       "      <th>22</th>\n",
       "      <td>28</td>\n",
       "      <td>2178914</td>\n",
       "      <td>738028</td>\n",
       "      <td>4136</td>\n",
       "      <td>1.446480</td>\n",
       "      <td>0.995647</td>\n",
       "      <td>2.261889</td>\n",
       "      <td>33.871369</td>\n",
       "    </tr>\n",
       "    <tr>\n",
       "      <th>23</th>\n",
       "      <td>29</td>\n",
       "      <td>3954653</td>\n",
       "      <td>1932329</td>\n",
       "      <td>6521</td>\n",
       "      <td>2.625311</td>\n",
       "      <td>2.606836</td>\n",
       "      <td>3.566194</td>\n",
       "      <td>48.862163</td>\n",
       "    </tr>\n",
       "    <tr>\n",
       "      <th>24</th>\n",
       "      <td>30</td>\n",
       "      <td>591024</td>\n",
       "      <td>276229</td>\n",
       "      <td>946</td>\n",
       "      <td>0.392354</td>\n",
       "      <td>0.372651</td>\n",
       "      <td>0.517347</td>\n",
       "      <td>46.737358</td>\n",
       "    </tr>\n",
       "    <tr>\n",
       "      <th>25</th>\n",
       "      <td>31</td>\n",
       "      <td>1325510</td>\n",
       "      <td>707954</td>\n",
       "      <td>2494</td>\n",
       "      <td>0.879945</td>\n",
       "      <td>0.955075</td>\n",
       "      <td>1.363915</td>\n",
       "      <td>53.409933</td>\n",
       "    </tr>\n",
       "    <tr>\n",
       "      <th>26</th>\n",
       "      <td>32</td>\n",
       "      <td>160083</td>\n",
       "      <td>60165</td>\n",
       "      <td>171</td>\n",
       "      <td>0.106272</td>\n",
       "      <td>0.081166</td>\n",
       "      <td>0.093516</td>\n",
       "      <td>37.583628</td>\n",
       "    </tr>\n",
       "    <tr>\n",
       "      <th>27</th>\n",
       "      <td>33</td>\n",
       "      <td>533242</td>\n",
       "      <td>282727</td>\n",
       "      <td>705</td>\n",
       "      <td>0.353995</td>\n",
       "      <td>0.381417</td>\n",
       "      <td>0.385549</td>\n",
       "      <td>53.020392</td>\n",
       "    </tr>\n",
       "    <tr>\n",
       "      <th>28</th>\n",
       "      <td>34</td>\n",
       "      <td>4835329</td>\n",
       "      <td>2786070</td>\n",
       "      <td>3106</td>\n",
       "      <td>3.209952</td>\n",
       "      <td>3.758587</td>\n",
       "      <td>1.698604</td>\n",
       "      <td>57.619037</td>\n",
       "    </tr>\n",
       "    <tr>\n",
       "      <th>29</th>\n",
       "      <td>35</td>\n",
       "      <td>681187</td>\n",
       "      <td>441774</td>\n",
       "      <td>831</td>\n",
       "      <td>0.452209</td>\n",
       "      <td>0.595981</td>\n",
       "      <td>0.454456</td>\n",
       "      <td>64.853557</td>\n",
       "    </tr>\n",
       "    <tr>\n",
       "      <th>30</th>\n",
       "      <td>36</td>\n",
       "      <td>14830192</td>\n",
       "      <td>8919263</td>\n",
       "      <td>8141</td>\n",
       "      <td>9.845079</td>\n",
       "      <td>12.032658</td>\n",
       "      <td>4.452137</td>\n",
       "      <td>60.142600</td>\n",
       "    </tr>\n",
       "    <tr>\n",
       "      <th>31</th>\n",
       "      <td>37</td>\n",
       "      <td>4061929</td>\n",
       "      <td>1620339</td>\n",
       "      <td>8029</td>\n",
       "      <td>2.696527</td>\n",
       "      <td>2.185941</td>\n",
       "      <td>4.390887</td>\n",
       "      <td>39.890875</td>\n",
       "    </tr>\n",
       "    <tr>\n",
       "      <th>32</th>\n",
       "      <td>38</td>\n",
       "      <td>619636</td>\n",
       "      <td>390081</td>\n",
       "      <td>1895</td>\n",
       "      <td>0.411348</td>\n",
       "      <td>0.526244</td>\n",
       "      <td>1.036335</td>\n",
       "      <td>62.953250</td>\n",
       "    </tr>\n",
       "    <tr>\n",
       "      <th>33</th>\n",
       "      <td>39</td>\n",
       "      <td>7946627</td>\n",
       "      <td>3685458</td>\n",
       "      <td>8654</td>\n",
       "      <td>5.275399</td>\n",
       "      <td>4.971919</td>\n",
       "      <td>4.732686</td>\n",
       "      <td>46.377639</td>\n",
       "    </tr>\n",
       "    <tr>\n",
       "      <th>34</th>\n",
       "      <td>40</td>\n",
       "      <td>2233351</td>\n",
       "      <td>947654</td>\n",
       "      <td>4052</td>\n",
       "      <td>1.482619</td>\n",
       "      <td>1.278446</td>\n",
       "      <td>2.215951</td>\n",
       "      <td>42.431933</td>\n",
       "    </tr>\n",
       "    <tr>\n",
       "      <th>35</th>\n",
       "      <td>41</td>\n",
       "      <td>1521341</td>\n",
       "      <td>421859</td>\n",
       "      <td>1703</td>\n",
       "      <td>1.009948</td>\n",
       "      <td>0.569115</td>\n",
       "      <td>0.931334</td>\n",
       "      <td>27.729418</td>\n",
       "    </tr>\n",
       "    <tr>\n",
       "      <th>36</th>\n",
       "      <td>42</td>\n",
       "      <td>10498012</td>\n",
       "      <td>6178459</td>\n",
       "      <td>11976</td>\n",
       "      <td>6.969145</td>\n",
       "      <td>8.335137</td>\n",
       "      <td>6.549416</td>\n",
       "      <td>58.853610</td>\n",
       "    </tr>\n",
       "    <tr>\n",
       "      <th>37</th>\n",
       "      <td>44</td>\n",
       "      <td>791896</td>\n",
       "      <td>599682</td>\n",
       "      <td>480</td>\n",
       "      <td>0.525703</td>\n",
       "      <td>0.809009</td>\n",
       "      <td>0.262502</td>\n",
       "      <td>75.727368</td>\n",
       "    </tr>\n",
       "    <tr>\n",
       "      <th>38</th>\n",
       "      <td>45</td>\n",
       "      <td>2117027</td>\n",
       "      <td>847446</td>\n",
       "      <td>3853</td>\n",
       "      <td>1.405396</td>\n",
       "      <td>1.143259</td>\n",
       "      <td>2.107123</td>\n",
       "      <td>40.030004</td>\n",
       "    </tr>\n",
       "    <tr>\n",
       "      <th>39</th>\n",
       "      <td>46</td>\n",
       "      <td>652740</td>\n",
       "      <td>381358</td>\n",
       "      <td>1677</td>\n",
       "      <td>0.433324</td>\n",
       "      <td>0.514476</td>\n",
       "      <td>0.917115</td>\n",
       "      <td>58.424181</td>\n",
       "    </tr>\n",
       "    <tr>\n",
       "      <th>40</th>\n",
       "      <td>47</td>\n",
       "      <td>3291718</td>\n",
       "      <td>1323396</td>\n",
       "      <td>6425</td>\n",
       "      <td>2.185220</td>\n",
       "      <td>1.785346</td>\n",
       "      <td>3.513694</td>\n",
       "      <td>40.203808</td>\n",
       "    </tr>\n",
       "    <tr>\n",
       "      <th>41</th>\n",
       "      <td>48</td>\n",
       "      <td>7711194</td>\n",
       "      <td>4132478</td>\n",
       "      <td>10563</td>\n",
       "      <td>5.119106</td>\n",
       "      <td>5.574978</td>\n",
       "      <td>5.776677</td>\n",
       "      <td>53.590637</td>\n",
       "    </tr>\n",
       "    <tr>\n",
       "      <th>42</th>\n",
       "      <td>49</td>\n",
       "      <td>688862</td>\n",
       "      <td>505196</td>\n",
       "      <td>159</td>\n",
       "      <td>0.457304</td>\n",
       "      <td>0.681542</td>\n",
       "      <td>0.086954</td>\n",
       "      <td>73.337766</td>\n",
       "    </tr>\n",
       "    <tr>\n",
       "      <th>43</th>\n",
       "      <td>50</td>\n",
       "      <td>377747</td>\n",
       "      <td>199167</td>\n",
       "      <td>746</td>\n",
       "      <td>0.250769</td>\n",
       "      <td>0.268689</td>\n",
       "      <td>0.407971</td>\n",
       "      <td>52.724972</td>\n",
       "    </tr>\n",
       "    <tr>\n",
       "      <th>44</th>\n",
       "      <td>51</td>\n",
       "      <td>3256893</td>\n",
       "      <td>1278816</td>\n",
       "      <td>5667</td>\n",
       "      <td>2.162101</td>\n",
       "      <td>1.725205</td>\n",
       "      <td>3.099160</td>\n",
       "      <td>39.264907</td>\n",
       "    </tr>\n",
       "    <tr>\n",
       "      <th>45</th>\n",
       "      <td>53</td>\n",
       "      <td>2378963</td>\n",
       "      <td>726089</td>\n",
       "      <td>2273</td>\n",
       "      <td>1.579284</td>\n",
       "      <td>0.979541</td>\n",
       "      <td>1.243055</td>\n",
       "      <td>30.521240</td>\n",
       "    </tr>\n",
       "    <tr>\n",
       "      <th>46</th>\n",
       "      <td>54</td>\n",
       "      <td>2005552</td>\n",
       "      <td>658326</td>\n",
       "      <td>4189</td>\n",
       "      <td>1.331393</td>\n",
       "      <td>0.888124</td>\n",
       "      <td>2.290874</td>\n",
       "      <td>32.825177</td>\n",
       "    </tr>\n",
       "    <tr>\n",
       "      <th>47</th>\n",
       "      <td>55</td>\n",
       "      <td>3434575</td>\n",
       "      <td>2192928</td>\n",
       "      <td>4365</td>\n",
       "      <td>2.280056</td>\n",
       "      <td>2.958400</td>\n",
       "      <td>2.387124</td>\n",
       "      <td>63.848598</td>\n",
       "    </tr>\n",
       "    <tr>\n",
       "      <th>48</th>\n",
       "      <td>56</td>\n",
       "      <td>290529</td>\n",
       "      <td>126606</td>\n",
       "      <td>381</td>\n",
       "      <td>0.192869</td>\n",
       "      <td>0.170800</td>\n",
       "      <td>0.208361</td>\n",
       "      <td>43.577750</td>\n",
       "    </tr>\n",
       "  </tbody>\n",
       "</table>\n",
       "</div>"
      ],
      "text/plain": [
       "    STCODE    TOTPOP  TOTMEMB  TOTCHUR  TOTPOP_RATE  TOTMEMB_RATE  \\\n",
       "0        1   3061743  1046460     5620     2.032550      1.411742   \n",
       "1        4    749587   336938      767     0.497616      0.454551   \n",
       "2        5   1909511   598593     3715     1.267636      0.807540   \n",
       "3        6  10586223  4306690     6794     7.027704      5.810001   \n",
       "4        8   1325089   550993     1578     0.879665      0.743325   \n",
       "5        9   2007280  1215346     1363     1.332540      1.639580   \n",
       "6       10    318085   140847      490     0.211162      0.190012   \n",
       "7       11    802178   374215      389     0.532529      0.504840   \n",
       "8       12   2771305  1007983     3528     1.839741      1.359834   \n",
       "9       13   3444578  1319460     5749     2.286696      1.780036   \n",
       "10      16    588637   259547      658     0.390769      0.350146   \n",
       "11      17   8712176  4670691     8265     5.783611      6.301062   \n",
       "12      18   3934224  1715289     6164     2.611750      2.314035   \n",
       "13      19   2621073  1404005     4593     1.740009      1.894093   \n",
       "14      20   1905299   887643     3727     1.264840      1.197487   \n",
       "15      21   2944806  1320412     5733     1.954921      1.781320   \n",
       "16      22   2683516  1440910     3004     1.781462      1.943880   \n",
       "17      23    913774   376705     1295     0.606612      0.508199   \n",
       "18      24   2343001  1118039     2466     1.555410      1.508306   \n",
       "19      25   4690514  3145023     2848     3.113816      4.242838   \n",
       "20      26   6371766  2693781     5573     4.229921      3.634083   \n",
       "21      27   2982483  1836015     4399     1.979933      2.476902   \n",
       "22      28   2178914   738028     4136     1.446480      0.995647   \n",
       "23      29   3954653  1932329     6521     2.625311      2.606836   \n",
       "24      30    591024   276229      946     0.392354      0.372651   \n",
       "25      31   1325510   707954     2494     0.879945      0.955075   \n",
       "26      32    160083    60165      171     0.106272      0.081166   \n",
       "27      33    533242   282727      705     0.353995      0.381417   \n",
       "28      34   4835329  2786070     3106     3.209952      3.758587   \n",
       "29      35    681187   441774      831     0.452209      0.595981   \n",
       "30      36  14830192  8919263     8141     9.845079     12.032658   \n",
       "31      37   4061929  1620339     8029     2.696527      2.185941   \n",
       "32      38    619636   390081     1895     0.411348      0.526244   \n",
       "33      39   7946627  3685458     8654     5.275399      4.971919   \n",
       "34      40   2233351   947654     4052     1.482619      1.278446   \n",
       "35      41   1521341   421859     1703     1.009948      0.569115   \n",
       "36      42  10498012  6178459    11976     6.969145      8.335137   \n",
       "37      44    791896   599682      480     0.525703      0.809009   \n",
       "38      45   2117027   847446     3853     1.405396      1.143259   \n",
       "39      46    652740   381358     1677     0.433324      0.514476   \n",
       "40      47   3291718  1323396     6425     2.185220      1.785346   \n",
       "41      48   7711194  4132478    10563     5.119106      5.574978   \n",
       "42      49    688862   505196      159     0.457304      0.681542   \n",
       "43      50    377747   199167      746     0.250769      0.268689   \n",
       "44      51   3256893  1278816     5667     2.162101      1.725205   \n",
       "45      53   2378963   726089     2273     1.579284      0.979541   \n",
       "46      54   2005552   658326     4189     1.331393      0.888124   \n",
       "47      55   3434575  2192928     4365     2.280056      2.958400   \n",
       "48      56    290529   126606      381     0.192869      0.170800   \n",
       "\n",
       "    TOTCHUR_RATE  %_OF_BELIEVERS  \n",
       "0       3.073457       34.178571  \n",
       "1       0.419456       44.949819  \n",
       "2       2.031653       31.347973  \n",
       "3       3.715492       40.682026  \n",
       "4       0.862974       41.581584  \n",
       "5       0.745395       60.546909  \n",
       "6       0.267970       44.279674  \n",
       "7       0.212736       46.649871  \n",
       "8       1.929387       36.372142  \n",
       "9       3.144004       38.305418  \n",
       "10      0.359846       44.092879  \n",
       "11      4.519950       53.611073  \n",
       "12      3.370959       43.599170  \n",
       "13      2.511813       53.566040  \n",
       "14      2.038216       46.588121  \n",
       "15      3.135254       44.838675  \n",
       "16      1.642823       53.694854  \n",
       "17      0.708208       41.225183  \n",
       "18      1.348602       47.718247  \n",
       "19      1.557510       67.050711  \n",
       "20      3.047753       42.276835  \n",
       "21      2.405718       61.559949  \n",
       "22      2.261889       33.871369  \n",
       "23      3.566194       48.862163  \n",
       "24      0.517347       46.737358  \n",
       "25      1.363915       53.409933  \n",
       "26      0.093516       37.583628  \n",
       "27      0.385549       53.020392  \n",
       "28      1.698604       57.619037  \n",
       "29      0.454456       64.853557  \n",
       "30      4.452137       60.142600  \n",
       "31      4.390887       39.890875  \n",
       "32      1.036335       62.953250  \n",
       "33      4.732686       46.377639  \n",
       "34      2.215951       42.431933  \n",
       "35      0.931334       27.729418  \n",
       "36      6.549416       58.853610  \n",
       "37      0.262502       75.727368  \n",
       "38      2.107123       40.030004  \n",
       "39      0.917115       58.424181  \n",
       "40      3.513694       40.203808  \n",
       "41      5.776677       53.590637  \n",
       "42      0.086954       73.337766  \n",
       "43      0.407971       52.724972  \n",
       "44      3.099160       39.264907  \n",
       "45      1.243055       30.521240  \n",
       "46      2.290874       32.825177  \n",
       "47      2.387124       63.848598  \n",
       "48      0.208361       43.577750  "
      ]
     },
     "execution_count": 3,
     "metadata": {},
     "output_type": "execute_result"
    }
   ],
   "source": [
    "state_group = religion.groupby('STCODE')\n",
    "\n",
    "state_summary = state_group.agg({\n",
    "    'TOTPOP': 'sum',  \n",
    "    'TOTMEMB': 'sum', \n",
    "    'TOTCHUR': 'sum' \n",
    "})\n",
    "\n",
    "state_summary['TOTPOP_RATE'] = (state_summary['TOTPOP'] / state_summary['TOTPOP'].sum()) * 100\n",
    "state_summary['TOTMEMB_RATE'] = (state_summary['TOTMEMB'] / state_summary['TOTMEMB'].sum()) * 100\n",
    "state_summary['TOTCHUR_RATE'] = (state_summary['TOTCHUR'] / state_summary['TOTCHUR'].sum()) * 100\n",
    "state_summary['%_OF_BELIEVERS'] = (state_summary['TOTMEMB'] / state_summary['TOTPOP'])*100\n",
    "state_summary=state_summary.reset_index()\n",
    "\n",
    "print(\"TOTPOP_RATE represents the percentage of the total population for each state. \\n TOTMEMB_RATE represents the percentage of the total members/believers for each state.\")\n",
    "print(\"TOTCHUR_RATE represents the percentage of the total churches for each state. \\n %_OF_BELIEVERS represents the total members/believers for each state for the total population of each state.\")\n",
    "print(\"Let's have a look at the new dataset.\")\n",
    "state_summary"
   ]
  },
  {
   "cell_type": "code",
   "execution_count": 4,
   "metadata": {},
   "outputs": [
    {
     "name": "stdout",
     "output_type": "stream",
     "text": [
      "Here we can see the statistical summary of our state summary dataset.\n"
     ]
    },
    {
     "data": {
      "text/html": [
       "<div>\n",
       "<style scoped>\n",
       "    .dataframe tbody tr th:only-of-type {\n",
       "        vertical-align: middle;\n",
       "    }\n",
       "\n",
       "    .dataframe tbody tr th {\n",
       "        vertical-align: top;\n",
       "    }\n",
       "\n",
       "    .dataframe thead th {\n",
       "        text-align: right;\n",
       "    }\n",
       "</style>\n",
       "<table border=\"1\" class=\"dataframe\">\n",
       "  <thead>\n",
       "    <tr style=\"text-align: right;\">\n",
       "      <th></th>\n",
       "      <th>STCODE</th>\n",
       "      <th>TOTPOP</th>\n",
       "      <th>TOTMEMB</th>\n",
       "      <th>TOTCHUR</th>\n",
       "      <th>TOTPOP_RATE</th>\n",
       "      <th>TOTMEMB_RATE</th>\n",
       "      <th>TOTCHUR_RATE</th>\n",
       "      <th>%_OF_BELIEVERS</th>\n",
       "    </tr>\n",
       "  </thead>\n",
       "  <tbody>\n",
       "    <tr>\n",
       "      <th>count</th>\n",
       "      <td>49.000000</td>\n",
       "      <td>4.900000e+01</td>\n",
       "      <td>4.900000e+01</td>\n",
       "      <td>49.000000</td>\n",
       "      <td>49.000000</td>\n",
       "      <td>49.000000</td>\n",
       "      <td>49.000000</td>\n",
       "      <td>49.000000</td>\n",
       "    </tr>\n",
       "    <tr>\n",
       "      <th>mean</th>\n",
       "      <td>29.795918</td>\n",
       "      <td>3.074195e+06</td>\n",
       "      <td>1.512765e+06</td>\n",
       "      <td>3731.755102</td>\n",
       "      <td>2.040816</td>\n",
       "      <td>2.040816</td>\n",
       "      <td>2.040816</td>\n",
       "      <td>48.104671</td>\n",
       "    </tr>\n",
       "    <tr>\n",
       "      <th>std</th>\n",
       "      <td>15.530856</td>\n",
       "      <td>3.086622e+06</td>\n",
       "      <td>1.718888e+06</td>\n",
       "      <td>2904.096026</td>\n",
       "      <td>2.049066</td>\n",
       "      <td>2.318890</td>\n",
       "      <td>1.588187</td>\n",
       "      <td>11.237930</td>\n",
       "    </tr>\n",
       "    <tr>\n",
       "      <th>min</th>\n",
       "      <td>1.000000</td>\n",
       "      <td>1.600830e+05</td>\n",
       "      <td>6.016500e+04</td>\n",
       "      <td>159.000000</td>\n",
       "      <td>0.106272</td>\n",
       "      <td>0.081166</td>\n",
       "      <td>0.086954</td>\n",
       "      <td>27.729418</td>\n",
       "    </tr>\n",
       "    <tr>\n",
       "      <th>25%</th>\n",
       "      <td>18.000000</td>\n",
       "      <td>7.918960e+05</td>\n",
       "      <td>4.218590e+05</td>\n",
       "      <td>1295.000000</td>\n",
       "      <td>0.525703</td>\n",
       "      <td>0.569115</td>\n",
       "      <td>0.708208</td>\n",
       "      <td>40.203808</td>\n",
       "    </tr>\n",
       "    <tr>\n",
       "      <th>50%</th>\n",
       "      <td>30.000000</td>\n",
       "      <td>2.233351e+06</td>\n",
       "      <td>9.476540e+05</td>\n",
       "      <td>3528.000000</td>\n",
       "      <td>1.482619</td>\n",
       "      <td>1.278446</td>\n",
       "      <td>1.929387</td>\n",
       "      <td>46.377639</td>\n",
       "    </tr>\n",
       "    <tr>\n",
       "      <th>75%</th>\n",
       "      <td>42.000000</td>\n",
       "      <td>3.444578e+06</td>\n",
       "      <td>1.715289e+06</td>\n",
       "      <td>5667.000000</td>\n",
       "      <td>2.286696</td>\n",
       "      <td>2.314035</td>\n",
       "      <td>3.099160</td>\n",
       "      <td>53.694854</td>\n",
       "    </tr>\n",
       "    <tr>\n",
       "      <th>max</th>\n",
       "      <td>56.000000</td>\n",
       "      <td>1.483019e+07</td>\n",
       "      <td>8.919263e+06</td>\n",
       "      <td>11976.000000</td>\n",
       "      <td>9.845079</td>\n",
       "      <td>12.032658</td>\n",
       "      <td>6.549416</td>\n",
       "      <td>75.727368</td>\n",
       "    </tr>\n",
       "  </tbody>\n",
       "</table>\n",
       "</div>"
      ],
      "text/plain": [
       "          STCODE        TOTPOP       TOTMEMB       TOTCHUR  TOTPOP_RATE  \\\n",
       "count  49.000000  4.900000e+01  4.900000e+01     49.000000    49.000000   \n",
       "mean   29.795918  3.074195e+06  1.512765e+06   3731.755102     2.040816   \n",
       "std    15.530856  3.086622e+06  1.718888e+06   2904.096026     2.049066   \n",
       "min     1.000000  1.600830e+05  6.016500e+04    159.000000     0.106272   \n",
       "25%    18.000000  7.918960e+05  4.218590e+05   1295.000000     0.525703   \n",
       "50%    30.000000  2.233351e+06  9.476540e+05   3528.000000     1.482619   \n",
       "75%    42.000000  3.444578e+06  1.715289e+06   5667.000000     2.286696   \n",
       "max    56.000000  1.483019e+07  8.919263e+06  11976.000000     9.845079   \n",
       "\n",
       "       TOTMEMB_RATE  TOTCHUR_RATE  %_OF_BELIEVERS  \n",
       "count     49.000000     49.000000       49.000000  \n",
       "mean       2.040816      2.040816       48.104671  \n",
       "std        2.318890      1.588187       11.237930  \n",
       "min        0.081166      0.086954       27.729418  \n",
       "25%        0.569115      0.708208       40.203808  \n",
       "50%        1.278446      1.929387       46.377639  \n",
       "75%        2.314035      3.099160       53.694854  \n",
       "max       12.032658      6.549416       75.727368  "
      ]
     },
     "execution_count": 4,
     "metadata": {},
     "output_type": "execute_result"
    }
   ],
   "source": [
    "print(\"Here we can see the statistical summary of our state summary dataset.\")\n",
    "state_summary.describe()"
   ]
  },
  {
   "cell_type": "markdown",
   "metadata": {},
   "source": [
    "**DISTRIBUTION OF BELIEVERS PER STATE**"
   ]
  },
  {
   "cell_type": "code",
   "execution_count": 5,
   "metadata": {},
   "outputs": [
    {
     "data": {
      "application/vnd.plotly.v1+json": {
       "config": {
        "plotlyServerURL": "https://plot.ly"
       },
       "data": [
        {
         "alignmentgroup": "True",
         "hovertemplate": "State Code=%{x}<br>Percentage of Believers=%{y}<extra></extra>",
         "legendgroup": "",
         "marker": {
          "color": "#636efa",
          "pattern": {
           "shape": ""
          }
         },
         "name": "",
         "offsetgroup": "",
         "orientation": "v",
         "showlegend": false,
         "textposition": "auto",
         "type": "bar",
         "x": [
          1,
          4,
          5,
          6,
          8,
          9,
          10,
          11,
          12,
          13,
          16,
          17,
          18,
          19,
          20,
          21,
          22,
          23,
          24,
          25,
          26,
          27,
          28,
          29,
          30,
          31,
          32,
          33,
          34,
          35,
          36,
          37,
          38,
          39,
          40,
          41,
          42,
          44,
          45,
          46,
          47,
          48,
          49,
          50,
          51,
          53,
          54,
          55,
          56
         ],
         "xaxis": "x",
         "y": [
          34.1785708336722,
          44.949819033681216,
          31.347973381666826,
          40.68202606349781,
          41.58158433131661,
          60.54690925032881,
          44.279673672131665,
          46.64987072694589,
          36.37214236614159,
          38.30541796411636,
          44.09287897294937,
          53.611072595411294,
          43.599169747325014,
          53.566039557082156,
          46.58812081463329,
          44.83867528115604,
          53.69485406459287,
          41.22518259438329,
          47.71824681252804,
          67.05071128665216,
          42.27683502501504,
          61.55994853952227,
          33.87136894801722,
          48.86216312783954,
          46.73735753539619,
          53.40993278059011,
          37.5836284927194,
          53.020392242171475,
          57.61903688456359,
          64.85355709959234,
          60.14259963728049,
          39.890874508146254,
          62.95324997256454,
          46.37763921724274,
          42.43193300112701,
          27.729417665073115,
          58.85360961675411,
          75.72736824027398,
          40.030004340993294,
          58.42418114410025,
          40.203808467189475,
          53.590637195744264,
          73.33776576440563,
          52.72497200507218,
          39.26490676850606,
          30.521239716632838,
          32.82517730779356,
          63.84859844376669,
          43.577749553400864
         ],
         "yaxis": "y"
        },
        {
         "alignmentgroup": "True",
         "hovertemplate": "State Code=%{x}<br>Total Members=%{y}<extra></extra>",
         "legendgroup": "",
         "marker": {
          "color": "#636efa",
          "pattern": {
           "shape": ""
          }
         },
         "name": "",
         "offsetgroup": "",
         "orientation": "v",
         "showlegend": false,
         "textposition": "auto",
         "type": "bar",
         "x": [
          1,
          4,
          5,
          6,
          8,
          9,
          10,
          11,
          12,
          13,
          16,
          17,
          18,
          19,
          20,
          21,
          22,
          23,
          24,
          25,
          26,
          27,
          28,
          29,
          30,
          31,
          32,
          33,
          34,
          35,
          36,
          37,
          38,
          39,
          40,
          41,
          42,
          44,
          45,
          46,
          47,
          48,
          49,
          50,
          51,
          53,
          54,
          55,
          56
         ],
         "xaxis": "x2",
         "y": [
          1046460,
          336938,
          598593,
          4306690,
          550993,
          1215346,
          140847,
          374215,
          1007983,
          1319460,
          259547,
          4670691,
          1715289,
          1404005,
          887643,
          1320412,
          1440910,
          376705,
          1118039,
          3145023,
          2693781,
          1836015,
          738028,
          1932329,
          276229,
          707954,
          60165,
          282727,
          2786070,
          441774,
          8919263,
          1620339,
          390081,
          3685458,
          947654,
          421859,
          6178459,
          599682,
          847446,
          381358,
          1323396,
          4132478,
          505196,
          199167,
          1278816,
          726089,
          658326,
          2192928,
          126606
         ],
         "yaxis": "y2"
        }
       ],
       "layout": {
        "annotations": [
         {
          "font": {
           "size": 16
          },
          "showarrow": false,
          "text": "Percentage of Believers",
          "x": 0.225,
          "xanchor": "center",
          "xref": "paper",
          "y": 1,
          "yanchor": "bottom",
          "yref": "paper"
         },
         {
          "font": {
           "size": 16
          },
          "showarrow": false,
          "text": "Total Members",
          "x": 0.775,
          "xanchor": "center",
          "xref": "paper",
          "y": 1,
          "yanchor": "bottom",
          "yref": "paper"
         }
        ],
        "template": {
         "data": {
          "bar": [
           {
            "error_x": {
             "color": "#2a3f5f"
            },
            "error_y": {
             "color": "#2a3f5f"
            },
            "marker": {
             "line": {
              "color": "#E5ECF6",
              "width": 0.5
             },
             "pattern": {
              "fillmode": "overlay",
              "size": 10,
              "solidity": 0.2
             }
            },
            "type": "bar"
           }
          ],
          "barpolar": [
           {
            "marker": {
             "line": {
              "color": "#E5ECF6",
              "width": 0.5
             },
             "pattern": {
              "fillmode": "overlay",
              "size": 10,
              "solidity": 0.2
             }
            },
            "type": "barpolar"
           }
          ],
          "carpet": [
           {
            "aaxis": {
             "endlinecolor": "#2a3f5f",
             "gridcolor": "white",
             "linecolor": "white",
             "minorgridcolor": "white",
             "startlinecolor": "#2a3f5f"
            },
            "baxis": {
             "endlinecolor": "#2a3f5f",
             "gridcolor": "white",
             "linecolor": "white",
             "minorgridcolor": "white",
             "startlinecolor": "#2a3f5f"
            },
            "type": "carpet"
           }
          ],
          "choropleth": [
           {
            "colorbar": {
             "outlinewidth": 0,
             "ticks": ""
            },
            "type": "choropleth"
           }
          ],
          "contour": [
           {
            "colorbar": {
             "outlinewidth": 0,
             "ticks": ""
            },
            "colorscale": [
             [
              0,
              "#0d0887"
             ],
             [
              0.1111111111111111,
              "#46039f"
             ],
             [
              0.2222222222222222,
              "#7201a8"
             ],
             [
              0.3333333333333333,
              "#9c179e"
             ],
             [
              0.4444444444444444,
              "#bd3786"
             ],
             [
              0.5555555555555556,
              "#d8576b"
             ],
             [
              0.6666666666666666,
              "#ed7953"
             ],
             [
              0.7777777777777778,
              "#fb9f3a"
             ],
             [
              0.8888888888888888,
              "#fdca26"
             ],
             [
              1,
              "#f0f921"
             ]
            ],
            "type": "contour"
           }
          ],
          "contourcarpet": [
           {
            "colorbar": {
             "outlinewidth": 0,
             "ticks": ""
            },
            "type": "contourcarpet"
           }
          ],
          "heatmap": [
           {
            "colorbar": {
             "outlinewidth": 0,
             "ticks": ""
            },
            "colorscale": [
             [
              0,
              "#0d0887"
             ],
             [
              0.1111111111111111,
              "#46039f"
             ],
             [
              0.2222222222222222,
              "#7201a8"
             ],
             [
              0.3333333333333333,
              "#9c179e"
             ],
             [
              0.4444444444444444,
              "#bd3786"
             ],
             [
              0.5555555555555556,
              "#d8576b"
             ],
             [
              0.6666666666666666,
              "#ed7953"
             ],
             [
              0.7777777777777778,
              "#fb9f3a"
             ],
             [
              0.8888888888888888,
              "#fdca26"
             ],
             [
              1,
              "#f0f921"
             ]
            ],
            "type": "heatmap"
           }
          ],
          "heatmapgl": [
           {
            "colorbar": {
             "outlinewidth": 0,
             "ticks": ""
            },
            "colorscale": [
             [
              0,
              "#0d0887"
             ],
             [
              0.1111111111111111,
              "#46039f"
             ],
             [
              0.2222222222222222,
              "#7201a8"
             ],
             [
              0.3333333333333333,
              "#9c179e"
             ],
             [
              0.4444444444444444,
              "#bd3786"
             ],
             [
              0.5555555555555556,
              "#d8576b"
             ],
             [
              0.6666666666666666,
              "#ed7953"
             ],
             [
              0.7777777777777778,
              "#fb9f3a"
             ],
             [
              0.8888888888888888,
              "#fdca26"
             ],
             [
              1,
              "#f0f921"
             ]
            ],
            "type": "heatmapgl"
           }
          ],
          "histogram": [
           {
            "marker": {
             "pattern": {
              "fillmode": "overlay",
              "size": 10,
              "solidity": 0.2
             }
            },
            "type": "histogram"
           }
          ],
          "histogram2d": [
           {
            "colorbar": {
             "outlinewidth": 0,
             "ticks": ""
            },
            "colorscale": [
             [
              0,
              "#0d0887"
             ],
             [
              0.1111111111111111,
              "#46039f"
             ],
             [
              0.2222222222222222,
              "#7201a8"
             ],
             [
              0.3333333333333333,
              "#9c179e"
             ],
             [
              0.4444444444444444,
              "#bd3786"
             ],
             [
              0.5555555555555556,
              "#d8576b"
             ],
             [
              0.6666666666666666,
              "#ed7953"
             ],
             [
              0.7777777777777778,
              "#fb9f3a"
             ],
             [
              0.8888888888888888,
              "#fdca26"
             ],
             [
              1,
              "#f0f921"
             ]
            ],
            "type": "histogram2d"
           }
          ],
          "histogram2dcontour": [
           {
            "colorbar": {
             "outlinewidth": 0,
             "ticks": ""
            },
            "colorscale": [
             [
              0,
              "#0d0887"
             ],
             [
              0.1111111111111111,
              "#46039f"
             ],
             [
              0.2222222222222222,
              "#7201a8"
             ],
             [
              0.3333333333333333,
              "#9c179e"
             ],
             [
              0.4444444444444444,
              "#bd3786"
             ],
             [
              0.5555555555555556,
              "#d8576b"
             ],
             [
              0.6666666666666666,
              "#ed7953"
             ],
             [
              0.7777777777777778,
              "#fb9f3a"
             ],
             [
              0.8888888888888888,
              "#fdca26"
             ],
             [
              1,
              "#f0f921"
             ]
            ],
            "type": "histogram2dcontour"
           }
          ],
          "mesh3d": [
           {
            "colorbar": {
             "outlinewidth": 0,
             "ticks": ""
            },
            "type": "mesh3d"
           }
          ],
          "parcoords": [
           {
            "line": {
             "colorbar": {
              "outlinewidth": 0,
              "ticks": ""
             }
            },
            "type": "parcoords"
           }
          ],
          "pie": [
           {
            "automargin": true,
            "type": "pie"
           }
          ],
          "scatter": [
           {
            "fillpattern": {
             "fillmode": "overlay",
             "size": 10,
             "solidity": 0.2
            },
            "type": "scatter"
           }
          ],
          "scatter3d": [
           {
            "line": {
             "colorbar": {
              "outlinewidth": 0,
              "ticks": ""
             }
            },
            "marker": {
             "colorbar": {
              "outlinewidth": 0,
              "ticks": ""
             }
            },
            "type": "scatter3d"
           }
          ],
          "scattercarpet": [
           {
            "marker": {
             "colorbar": {
              "outlinewidth": 0,
              "ticks": ""
             }
            },
            "type": "scattercarpet"
           }
          ],
          "scattergeo": [
           {
            "marker": {
             "colorbar": {
              "outlinewidth": 0,
              "ticks": ""
             }
            },
            "type": "scattergeo"
           }
          ],
          "scattergl": [
           {
            "marker": {
             "colorbar": {
              "outlinewidth": 0,
              "ticks": ""
             }
            },
            "type": "scattergl"
           }
          ],
          "scattermapbox": [
           {
            "marker": {
             "colorbar": {
              "outlinewidth": 0,
              "ticks": ""
             }
            },
            "type": "scattermapbox"
           }
          ],
          "scatterpolar": [
           {
            "marker": {
             "colorbar": {
              "outlinewidth": 0,
              "ticks": ""
             }
            },
            "type": "scatterpolar"
           }
          ],
          "scatterpolargl": [
           {
            "marker": {
             "colorbar": {
              "outlinewidth": 0,
              "ticks": ""
             }
            },
            "type": "scatterpolargl"
           }
          ],
          "scatterternary": [
           {
            "marker": {
             "colorbar": {
              "outlinewidth": 0,
              "ticks": ""
             }
            },
            "type": "scatterternary"
           }
          ],
          "surface": [
           {
            "colorbar": {
             "outlinewidth": 0,
             "ticks": ""
            },
            "colorscale": [
             [
              0,
              "#0d0887"
             ],
             [
              0.1111111111111111,
              "#46039f"
             ],
             [
              0.2222222222222222,
              "#7201a8"
             ],
             [
              0.3333333333333333,
              "#9c179e"
             ],
             [
              0.4444444444444444,
              "#bd3786"
             ],
             [
              0.5555555555555556,
              "#d8576b"
             ],
             [
              0.6666666666666666,
              "#ed7953"
             ],
             [
              0.7777777777777778,
              "#fb9f3a"
             ],
             [
              0.8888888888888888,
              "#fdca26"
             ],
             [
              1,
              "#f0f921"
             ]
            ],
            "type": "surface"
           }
          ],
          "table": [
           {
            "cells": {
             "fill": {
              "color": "#EBF0F8"
             },
             "line": {
              "color": "white"
             }
            },
            "header": {
             "fill": {
              "color": "#C8D4E3"
             },
             "line": {
              "color": "white"
             }
            },
            "type": "table"
           }
          ]
         },
         "layout": {
          "annotationdefaults": {
           "arrowcolor": "#2a3f5f",
           "arrowhead": 0,
           "arrowwidth": 1
          },
          "autotypenumbers": "strict",
          "coloraxis": {
           "colorbar": {
            "outlinewidth": 0,
            "ticks": ""
           }
          },
          "colorscale": {
           "diverging": [
            [
             0,
             "#8e0152"
            ],
            [
             0.1,
             "#c51b7d"
            ],
            [
             0.2,
             "#de77ae"
            ],
            [
             0.3,
             "#f1b6da"
            ],
            [
             0.4,
             "#fde0ef"
            ],
            [
             0.5,
             "#f7f7f7"
            ],
            [
             0.6,
             "#e6f5d0"
            ],
            [
             0.7,
             "#b8e186"
            ],
            [
             0.8,
             "#7fbc41"
            ],
            [
             0.9,
             "#4d9221"
            ],
            [
             1,
             "#276419"
            ]
           ],
           "sequential": [
            [
             0,
             "#0d0887"
            ],
            [
             0.1111111111111111,
             "#46039f"
            ],
            [
             0.2222222222222222,
             "#7201a8"
            ],
            [
             0.3333333333333333,
             "#9c179e"
            ],
            [
             0.4444444444444444,
             "#bd3786"
            ],
            [
             0.5555555555555556,
             "#d8576b"
            ],
            [
             0.6666666666666666,
             "#ed7953"
            ],
            [
             0.7777777777777778,
             "#fb9f3a"
            ],
            [
             0.8888888888888888,
             "#fdca26"
            ],
            [
             1,
             "#f0f921"
            ]
           ],
           "sequentialminus": [
            [
             0,
             "#0d0887"
            ],
            [
             0.1111111111111111,
             "#46039f"
            ],
            [
             0.2222222222222222,
             "#7201a8"
            ],
            [
             0.3333333333333333,
             "#9c179e"
            ],
            [
             0.4444444444444444,
             "#bd3786"
            ],
            [
             0.5555555555555556,
             "#d8576b"
            ],
            [
             0.6666666666666666,
             "#ed7953"
            ],
            [
             0.7777777777777778,
             "#fb9f3a"
            ],
            [
             0.8888888888888888,
             "#fdca26"
            ],
            [
             1,
             "#f0f921"
            ]
           ]
          },
          "colorway": [
           "#636efa",
           "#EF553B",
           "#00cc96",
           "#ab63fa",
           "#FFA15A",
           "#19d3f3",
           "#FF6692",
           "#B6E880",
           "#FF97FF",
           "#FECB52"
          ],
          "font": {
           "color": "#2a3f5f"
          },
          "geo": {
           "bgcolor": "white",
           "lakecolor": "white",
           "landcolor": "#E5ECF6",
           "showlakes": true,
           "showland": true,
           "subunitcolor": "white"
          },
          "hoverlabel": {
           "align": "left"
          },
          "hovermode": "closest",
          "mapbox": {
           "style": "light"
          },
          "paper_bgcolor": "white",
          "plot_bgcolor": "#E5ECF6",
          "polar": {
           "angularaxis": {
            "gridcolor": "white",
            "linecolor": "white",
            "ticks": ""
           },
           "bgcolor": "#E5ECF6",
           "radialaxis": {
            "gridcolor": "white",
            "linecolor": "white",
            "ticks": ""
           }
          },
          "scene": {
           "xaxis": {
            "backgroundcolor": "#E5ECF6",
            "gridcolor": "white",
            "gridwidth": 2,
            "linecolor": "white",
            "showbackground": true,
            "ticks": "",
            "zerolinecolor": "white"
           },
           "yaxis": {
            "backgroundcolor": "#E5ECF6",
            "gridcolor": "white",
            "gridwidth": 2,
            "linecolor": "white",
            "showbackground": true,
            "ticks": "",
            "zerolinecolor": "white"
           },
           "zaxis": {
            "backgroundcolor": "#E5ECF6",
            "gridcolor": "white",
            "gridwidth": 2,
            "linecolor": "white",
            "showbackground": true,
            "ticks": "",
            "zerolinecolor": "white"
           }
          },
          "shapedefaults": {
           "line": {
            "color": "#2a3f5f"
           }
          },
          "ternary": {
           "aaxis": {
            "gridcolor": "white",
            "linecolor": "white",
            "ticks": ""
           },
           "baxis": {
            "gridcolor": "white",
            "linecolor": "white",
            "ticks": ""
           },
           "bgcolor": "#E5ECF6",
           "caxis": {
            "gridcolor": "white",
            "linecolor": "white",
            "ticks": ""
           }
          },
          "title": {
           "x": 0.05
          },
          "xaxis": {
           "automargin": true,
           "gridcolor": "white",
           "linecolor": "white",
           "ticks": "",
           "title": {
            "standoff": 15
           },
           "zerolinecolor": "white",
           "zerolinewidth": 2
          },
          "yaxis": {
           "automargin": true,
           "gridcolor": "white",
           "linecolor": "white",
           "ticks": "",
           "title": {
            "standoff": 15
           },
           "zerolinecolor": "white",
           "zerolinewidth": 2
          }
         }
        },
        "title": {
         "text": "Distribution of Believers and Total Members per State"
        },
        "xaxis": {
         "anchor": "y",
         "domain": [
          0,
          0.45
         ],
         "title": {
          "text": "State Code"
         }
        },
        "xaxis2": {
         "anchor": "y2",
         "domain": [
          0.55,
          1
         ],
         "title": {
          "text": "State Code"
         }
        },
        "yaxis": {
         "anchor": "x",
         "domain": [
          0,
          1
         ],
         "title": {
          "text": "Percentage of Believers"
         }
        },
        "yaxis2": {
         "anchor": "x2",
         "domain": [
          0,
          1
         ],
         "title": {
          "text": "Total Members"
         }
        }
       }
      }
     },
     "metadata": {},
     "output_type": "display_data"
    }
   ],
   "source": [
    "\n",
    "x_column_believers = 'STCODE'\n",
    "y_column_believers = '%_OF_BELIEVERS'\n",
    "\n",
    "fig_believers = px.bar(state_summary, x=x_column_believers, y=y_column_believers,\n",
    "                       title='Distribution of Believers and Total Members per State',\n",
    "                       labels={x_column_believers: 'State Code', y_column_believers: 'Percentage of Believers'})\n",
    "\n",
    "x_column_members = 'STCODE'\n",
    "y_column_members = 'TOTMEMB'\n",
    "\n",
    "fig_members = px.bar(state_summary, x=x_column_members, y=y_column_members,\n",
    "                     labels={x_column_members: 'State Code', y_column_members: 'Total Members'})\n",
    "\n",
    "fig_combined = make_subplots(rows=1, cols=2, subplot_titles=['Percentage of Believers', 'Total Members'])\n",
    "fig_combined.add_trace(fig_believers['data'][0], row=1, col=1)\n",
    "fig_combined.add_trace(fig_members['data'][0], row=1, col=2)\n",
    "\n",
    "fig_combined.update_layout(title='Distribution of Believers and Total Members per State',\n",
    "                           xaxis=dict(title='State Code'), yaxis=dict(title='Percentage of Believers'),\n",
    "                           xaxis2=dict(title='State Code'), yaxis2=dict(title='Total Members'))\n",
    "\n",
    "fig_combined.show()"
   ]
  },
  {
   "cell_type": "markdown",
   "metadata": {},
   "source": [
    "From the graphs above we can make some observations :\n",
    "\n",
    "- State 36 (New York) has the largest population, indicating a high population density. Despite having a slightly lower percentage of believers compared to State 44 (Rhode Island) , the sheer size of the population in State 36 contributes significantly to the total number of believers.\n",
    "\n",
    "- While State 44 may have the highest percentage of believers, it might have a smaller overall population compared to State 36. This suggests that State 44 has a higher concentration of believers relative to its population size, which is typical in smaller communities or regions.\n",
    "\n",
    "- In contrast, State 36 with its large population and relatively high percentage of believers implies a substantial number of believers overall. The combination of a large population and a reasonably high percentage of believers in State 36 makes it a significant contributor to the total number of believers in the area.\n",
    "\n",
    "**Conclusion** :\n",
    "\n",
    "Despite State 44 having the highest percentage of believers, the larger population and reasonable percentage of believers in State 36 make it a more substantial area in terms of the total number of believers. This observation underscores the importance of considering both population size and percentage of believers when analyzing religious demographics across different regions.\n",
    "\n",
    "\n",
    "Returning to the religion dataset, we are going to count the rate of members of every county and added to our dataset.\n",
    "\n",
    "### **Maps**\n",
    "In this section we will visualize the maps of :\n",
    "- total believers-members of each county\n",
    "- total rate of each count \n",
    "- total churches of each county  "
   ]
  },
  {
   "cell_type": "code",
   "execution_count": 6,
   "metadata": {},
   "outputs": [
    {
     "data": {
      "text/html": [
       "<div>\n",
       "<style scoped>\n",
       "    .dataframe tbody tr th:only-of-type {\n",
       "        vertical-align: middle;\n",
       "    }\n",
       "\n",
       "    .dataframe tbody tr th {\n",
       "        vertical-align: top;\n",
       "    }\n",
       "\n",
       "    .dataframe thead th {\n",
       "        text-align: right;\n",
       "    }\n",
       "</style>\n",
       "<table border=\"1\" class=\"dataframe\">\n",
       "  <thead>\n",
       "    <tr style=\"text-align: right;\">\n",
       "      <th></th>\n",
       "      <th>CaseID$</th>\n",
       "      <th>CNAME</th>\n",
       "      <th>STCODE</th>\n",
       "      <th>CCODE</th>\n",
       "      <th>TOTPOP</th>\n",
       "      <th>TOTMEMB</th>\n",
       "      <th>TOTCHUR</th>\n",
       "      <th>SDA_M</th>\n",
       "      <th>SDA_C</th>\n",
       "      <th>AOG_M</th>\n",
       "      <th>...</th>\n",
       "      <th>UCHRC_C</th>\n",
       "      <th>UCA_M</th>\n",
       "      <th>UCA_C</th>\n",
       "      <th>VEDS_M</th>\n",
       "      <th>VEDS_C</th>\n",
       "      <th>VLNTR_M</th>\n",
       "      <th>VLNTR_C</th>\n",
       "      <th>CGP_M</th>\n",
       "      <th>CGP_C</th>\n",
       "      <th>TOTRATE</th>\n",
       "    </tr>\n",
       "  </thead>\n",
       "  <tbody>\n",
       "    <tr>\n",
       "      <th>0</th>\n",
       "      <td>33</td>\n",
       "      <td>Hale, AL</td>\n",
       "      <td>1</td>\n",
       "      <td>65</td>\n",
       "      <td>20832</td>\n",
       "      <td>5145</td>\n",
       "      <td>52</td>\n",
       "      <td>0</td>\n",
       "      <td>0</td>\n",
       "      <td>0</td>\n",
       "      <td>...</td>\n",
       "      <td>0</td>\n",
       "      <td>0</td>\n",
       "      <td>0</td>\n",
       "      <td>0</td>\n",
       "      <td>0</td>\n",
       "      <td>0</td>\n",
       "      <td>0</td>\n",
       "      <td>0</td>\n",
       "      <td>0</td>\n",
       "      <td>24.697581</td>\n",
       "    </tr>\n",
       "    <tr>\n",
       "      <th>1</th>\n",
       "      <td>34</td>\n",
       "      <td>Henry, AL</td>\n",
       "      <td>1</td>\n",
       "      <td>67</td>\n",
       "      <td>18674</td>\n",
       "      <td>4773</td>\n",
       "      <td>31</td>\n",
       "      <td>0</td>\n",
       "      <td>0</td>\n",
       "      <td>23</td>\n",
       "      <td>...</td>\n",
       "      <td>0</td>\n",
       "      <td>0</td>\n",
       "      <td>0</td>\n",
       "      <td>0</td>\n",
       "      <td>0</td>\n",
       "      <td>0</td>\n",
       "      <td>0</td>\n",
       "      <td>0</td>\n",
       "      <td>0</td>\n",
       "      <td>25.559602</td>\n",
       "    </tr>\n",
       "    <tr>\n",
       "      <th>2</th>\n",
       "      <td>35</td>\n",
       "      <td>Houston, AL</td>\n",
       "      <td>1</td>\n",
       "      <td>69</td>\n",
       "      <td>46522</td>\n",
       "      <td>19420</td>\n",
       "      <td>88</td>\n",
       "      <td>87</td>\n",
       "      <td>2</td>\n",
       "      <td>379</td>\n",
       "      <td>...</td>\n",
       "      <td>0</td>\n",
       "      <td>0</td>\n",
       "      <td>0</td>\n",
       "      <td>0</td>\n",
       "      <td>0</td>\n",
       "      <td>0</td>\n",
       "      <td>0</td>\n",
       "      <td>0</td>\n",
       "      <td>0</td>\n",
       "      <td>41.743691</td>\n",
       "    </tr>\n",
       "    <tr>\n",
       "      <th>3</th>\n",
       "      <td>36</td>\n",
       "      <td>Jackson, AL</td>\n",
       "      <td>1</td>\n",
       "      <td>71</td>\n",
       "      <td>38998</td>\n",
       "      <td>9030</td>\n",
       "      <td>82</td>\n",
       "      <td>110</td>\n",
       "      <td>1</td>\n",
       "      <td>0</td>\n",
       "      <td>...</td>\n",
       "      <td>0</td>\n",
       "      <td>0</td>\n",
       "      <td>0</td>\n",
       "      <td>0</td>\n",
       "      <td>0</td>\n",
       "      <td>0</td>\n",
       "      <td>0</td>\n",
       "      <td>0</td>\n",
       "      <td>0</td>\n",
       "      <td>23.155034</td>\n",
       "    </tr>\n",
       "    <tr>\n",
       "      <th>4</th>\n",
       "      <td>37</td>\n",
       "      <td>Jefferson, AL</td>\n",
       "      <td>1</td>\n",
       "      <td>73</td>\n",
       "      <td>558928</td>\n",
       "      <td>212326</td>\n",
       "      <td>595</td>\n",
       "      <td>991</td>\n",
       "      <td>4</td>\n",
       "      <td>648</td>\n",
       "      <td>...</td>\n",
       "      <td>0</td>\n",
       "      <td>0</td>\n",
       "      <td>0</td>\n",
       "      <td>0</td>\n",
       "      <td>0</td>\n",
       "      <td>0</td>\n",
       "      <td>0</td>\n",
       "      <td>454</td>\n",
       "      <td>11</td>\n",
       "      <td>37.988077</td>\n",
       "    </tr>\n",
       "  </tbody>\n",
       "</table>\n",
       "<p>5 rows × 236 columns</p>\n",
       "</div>"
      ],
      "text/plain": [
       "   CaseID$          CNAME  STCODE  CCODE  TOTPOP  TOTMEMB  TOTCHUR  SDA_M  \\\n",
       "0       33       Hale, AL       1     65   20832     5145       52      0   \n",
       "1       34      Henry, AL       1     67   18674     4773       31      0   \n",
       "2       35    Houston, AL       1     69   46522    19420       88     87   \n",
       "3       36    Jackson, AL       1     71   38998     9030       82    110   \n",
       "4       37  Jefferson, AL       1     73  558928   212326      595    991   \n",
       "\n",
       "   SDA_C  AOG_M  ...  UCHRC_C  UCA_M  UCA_C  VEDS_M  VEDS_C  VLNTR_M  VLNTR_C  \\\n",
       "0      0      0  ...        0      0      0       0       0        0        0   \n",
       "1      0     23  ...        0      0      0       0       0        0        0   \n",
       "2      2    379  ...        0      0      0       0       0        0        0   \n",
       "3      1      0  ...        0      0      0       0       0        0        0   \n",
       "4      4    648  ...        0      0      0       0       0        0        0   \n",
       "\n",
       "   CGP_M  CGP_C    TOTRATE  \n",
       "0      0      0  24.697581  \n",
       "1      0      0  25.559602  \n",
       "2      0      0  41.743691  \n",
       "3      0      0  23.155034  \n",
       "4    454     11  37.988077  \n",
       "\n",
       "[5 rows x 236 columns]"
      ]
     },
     "execution_count": 6,
     "metadata": {},
     "output_type": "execute_result"
    }
   ],
   "source": [
    "religion['TOTRATE']=(religion['TOTMEMB'] / religion['TOTPOP'])*100  #adding total rate in the table\n",
    "religion.head()"
   ]
  },
  {
   "cell_type": "code",
   "execution_count": 7,
   "metadata": {},
   "outputs": [
    {
     "data": {
      "text/html": [
       "<div>\n",
       "<style scoped>\n",
       "    .dataframe tbody tr th:only-of-type {\n",
       "        vertical-align: middle;\n",
       "    }\n",
       "\n",
       "    .dataframe tbody tr th {\n",
       "        vertical-align: top;\n",
       "    }\n",
       "\n",
       "    .dataframe thead th {\n",
       "        text-align: right;\n",
       "    }\n",
       "</style>\n",
       "<table border=\"1\" class=\"dataframe\">\n",
       "  <thead>\n",
       "    <tr style=\"text-align: right;\">\n",
       "      <th></th>\n",
       "      <th>CaseID$</th>\n",
       "      <th>CNAME</th>\n",
       "      <th>STCODE</th>\n",
       "      <th>CCODE</th>\n",
       "      <th>TOTPOP</th>\n",
       "      <th>TOTMEMB</th>\n",
       "      <th>TOTCHUR</th>\n",
       "      <th>SDA_M</th>\n",
       "      <th>SDA_C</th>\n",
       "      <th>AOG_M</th>\n",
       "      <th>...</th>\n",
       "      <th>UCA_C</th>\n",
       "      <th>VEDS_M</th>\n",
       "      <th>VEDS_C</th>\n",
       "      <th>VLNTR_M</th>\n",
       "      <th>VLNTR_C</th>\n",
       "      <th>CGP_M</th>\n",
       "      <th>CGP_C</th>\n",
       "      <th>TOTRATE</th>\n",
       "      <th>state_name_long</th>\n",
       "      <th>state_name_short</th>\n",
       "    </tr>\n",
       "  </thead>\n",
       "  <tbody>\n",
       "    <tr>\n",
       "      <th>0</th>\n",
       "      <td>33</td>\n",
       "      <td>Hale, AL</td>\n",
       "      <td>1</td>\n",
       "      <td>65</td>\n",
       "      <td>20832</td>\n",
       "      <td>5145</td>\n",
       "      <td>52</td>\n",
       "      <td>0</td>\n",
       "      <td>0</td>\n",
       "      <td>0</td>\n",
       "      <td>...</td>\n",
       "      <td>0</td>\n",
       "      <td>0</td>\n",
       "      <td>0</td>\n",
       "      <td>0</td>\n",
       "      <td>0</td>\n",
       "      <td>0</td>\n",
       "      <td>0</td>\n",
       "      <td>24.697581</td>\n",
       "      <td>Hale</td>\n",
       "      <td>AL</td>\n",
       "    </tr>\n",
       "    <tr>\n",
       "      <th>1</th>\n",
       "      <td>34</td>\n",
       "      <td>Henry, AL</td>\n",
       "      <td>1</td>\n",
       "      <td>67</td>\n",
       "      <td>18674</td>\n",
       "      <td>4773</td>\n",
       "      <td>31</td>\n",
       "      <td>0</td>\n",
       "      <td>0</td>\n",
       "      <td>23</td>\n",
       "      <td>...</td>\n",
       "      <td>0</td>\n",
       "      <td>0</td>\n",
       "      <td>0</td>\n",
       "      <td>0</td>\n",
       "      <td>0</td>\n",
       "      <td>0</td>\n",
       "      <td>0</td>\n",
       "      <td>25.559602</td>\n",
       "      <td>Henry</td>\n",
       "      <td>AL</td>\n",
       "    </tr>\n",
       "    <tr>\n",
       "      <th>2</th>\n",
       "      <td>35</td>\n",
       "      <td>Houston, AL</td>\n",
       "      <td>1</td>\n",
       "      <td>69</td>\n",
       "      <td>46522</td>\n",
       "      <td>19420</td>\n",
       "      <td>88</td>\n",
       "      <td>87</td>\n",
       "      <td>2</td>\n",
       "      <td>379</td>\n",
       "      <td>...</td>\n",
       "      <td>0</td>\n",
       "      <td>0</td>\n",
       "      <td>0</td>\n",
       "      <td>0</td>\n",
       "      <td>0</td>\n",
       "      <td>0</td>\n",
       "      <td>0</td>\n",
       "      <td>41.743691</td>\n",
       "      <td>Houston</td>\n",
       "      <td>AL</td>\n",
       "    </tr>\n",
       "  </tbody>\n",
       "</table>\n",
       "<p>3 rows × 238 columns</p>\n",
       "</div>"
      ],
      "text/plain": [
       "   CaseID$        CNAME  STCODE  CCODE  TOTPOP  TOTMEMB  TOTCHUR  SDA_M  \\\n",
       "0       33     Hale, AL       1     65   20832     5145       52      0   \n",
       "1       34    Henry, AL       1     67   18674     4773       31      0   \n",
       "2       35  Houston, AL       1     69   46522    19420       88     87   \n",
       "\n",
       "   SDA_C  AOG_M  ...  UCA_C  VEDS_M  VEDS_C  VLNTR_M  VLNTR_C  CGP_M  CGP_C  \\\n",
       "0      0      0  ...      0       0       0        0        0      0      0   \n",
       "1      0     23  ...      0       0       0        0        0      0      0   \n",
       "2      2    379  ...      0       0       0        0        0      0      0   \n",
       "\n",
       "     TOTRATE  state_name_long  state_name_short  \n",
       "0  24.697581             Hale                AL  \n",
       "1  25.559602            Henry                AL  \n",
       "2  41.743691          Houston                AL  \n",
       "\n",
       "[3 rows x 238 columns]"
      ]
     },
     "execution_count": 7,
     "metadata": {},
     "output_type": "execute_result"
    }
   ],
   "source": [
    "df = religion.copy()\n",
    "df[['state_name_long','state_name_short']] = df['CNAME'].str.split(',',expand=True)\n",
    "df.head(3)"
   ]
  },
  {
   "cell_type": "code",
   "execution_count": 8,
   "metadata": {},
   "outputs": [
    {
     "data": {
      "text/html": [
       "<div>\n",
       "<style scoped>\n",
       "    .dataframe tbody tr th:only-of-type {\n",
       "        vertical-align: middle;\n",
       "    }\n",
       "\n",
       "    .dataframe tbody tr th {\n",
       "        vertical-align: top;\n",
       "    }\n",
       "\n",
       "    .dataframe thead th {\n",
       "        text-align: right;\n",
       "    }\n",
       "</style>\n",
       "<table border=\"1\" class=\"dataframe\">\n",
       "  <thead>\n",
       "    <tr style=\"text-align: right;\">\n",
       "      <th></th>\n",
       "      <th>STCODE</th>\n",
       "      <th>state_name_long</th>\n",
       "      <th>TOTMEMB</th>\n",
       "      <th>TOTRATE</th>\n",
       "      <th>TOTCHUR</th>\n",
       "    </tr>\n",
       "  </thead>\n",
       "  <tbody>\n",
       "    <tr>\n",
       "      <th>0</th>\n",
       "      <td>1</td>\n",
       "      <td>Hale</td>\n",
       "      <td>5145</td>\n",
       "      <td>24.697581</td>\n",
       "      <td>52</td>\n",
       "    </tr>\n",
       "    <tr>\n",
       "      <th>1</th>\n",
       "      <td>1</td>\n",
       "      <td>Henry</td>\n",
       "      <td>4773</td>\n",
       "      <td>25.559602</td>\n",
       "      <td>31</td>\n",
       "    </tr>\n",
       "    <tr>\n",
       "      <th>2</th>\n",
       "      <td>1</td>\n",
       "      <td>Houston</td>\n",
       "      <td>19420</td>\n",
       "      <td>41.743691</td>\n",
       "      <td>88</td>\n",
       "    </tr>\n",
       "  </tbody>\n",
       "</table>\n",
       "</div>"
      ],
      "text/plain": [
       "   STCODE state_name_long  TOTMEMB    TOTRATE  TOTCHUR\n",
       "0       1            Hale     5145  24.697581       52\n",
       "1       1           Henry     4773  25.559602       31\n",
       "2       1         Houston    19420  41.743691       88"
      ]
     },
     "execution_count": 8,
     "metadata": {},
     "output_type": "execute_result"
    }
   ],
   "source": [
    "map_df = df[['STCODE','state_name_long','TOTMEMB', 'TOTRATE', 'TOTCHUR']]\n",
    "map_df.head(3)"
   ]
  },
  {
   "cell_type": "code",
   "execution_count": 9,
   "metadata": {},
   "outputs": [
    {
     "data": {
      "text/html": [
       "<div>\n",
       "<style scoped>\n",
       "    .dataframe tbody tr th:only-of-type {\n",
       "        vertical-align: middle;\n",
       "    }\n",
       "\n",
       "    .dataframe tbody tr th {\n",
       "        vertical-align: top;\n",
       "    }\n",
       "\n",
       "    .dataframe thead th {\n",
       "        text-align: right;\n",
       "    }\n",
       "</style>\n",
       "<table border=\"1\" class=\"dataframe\">\n",
       "  <thead>\n",
       "    <tr style=\"text-align: right;\">\n",
       "      <th></th>\n",
       "      <th>ste_code</th>\n",
       "      <th>coty_name</th>\n",
       "      <th>coty_code</th>\n",
       "      <th>geometry</th>\n",
       "    </tr>\n",
       "  </thead>\n",
       "  <tbody>\n",
       "    <tr>\n",
       "      <th>0</th>\n",
       "      <td>29</td>\n",
       "      <td>Harrison</td>\n",
       "      <td>[29081]</td>\n",
       "      <td>POLYGON ((-94.23224 40.57190, -94.23235 40.565...</td>\n",
       "    </tr>\n",
       "    <tr>\n",
       "      <th>1</th>\n",
       "      <td>29</td>\n",
       "      <td>Jefferson</td>\n",
       "      <td>[29099]</td>\n",
       "      <td>POLYGON ((-90.63998 38.07655, -90.63989 38.076...</td>\n",
       "    </tr>\n",
       "    <tr>\n",
       "      <th>2</th>\n",
       "      <td>29</td>\n",
       "      <td>Newton</td>\n",
       "      <td>[29145]</td>\n",
       "      <td>POLYGON ((-94.05921 37.04813, -94.05967 37.048...</td>\n",
       "    </tr>\n",
       "  </tbody>\n",
       "</table>\n",
       "</div>"
      ],
      "text/plain": [
       "   ste_code  coty_name coty_code  \\\n",
       "0        29   Harrison   [29081]   \n",
       "1        29  Jefferson   [29099]   \n",
       "2        29     Newton   [29145]   \n",
       "\n",
       "                                            geometry  \n",
       "0  POLYGON ((-94.23224 40.57190, -94.23235 40.565...  \n",
       "1  POLYGON ((-90.63998 38.07655, -90.63989 38.076...  \n",
       "2  POLYGON ((-94.05921 37.04813, -94.05967 37.048...  "
      ]
     },
     "execution_count": 9,
     "metadata": {},
     "output_type": "execute_result"
    }
   ],
   "source": [
    "geojson = gpd.read_file(r'datasets/georef-united-states-of-america-county.geojson')\n",
    "geojson = geojson[['ste_code','coty_name','coty_code','geometry']] #only select certain columns\n",
    "geojson['coty_name'] = geojson['coty_name'].str[0]\n",
    "geojson['ste_code'] = geojson['ste_code'].str[0].astype(int)\n",
    "geojson.head(3)"
   ]
  },
  {
   "cell_type": "code",
   "execution_count": 10,
   "metadata": {},
   "outputs": [
    {
     "data": {
      "text/html": [
       "<div>\n",
       "<style scoped>\n",
       "    .dataframe tbody tr th:only-of-type {\n",
       "        vertical-align: middle;\n",
       "    }\n",
       "\n",
       "    .dataframe tbody tr th {\n",
       "        vertical-align: top;\n",
       "    }\n",
       "\n",
       "    .dataframe thead th {\n",
       "        text-align: right;\n",
       "    }\n",
       "</style>\n",
       "<table border=\"1\" class=\"dataframe\">\n",
       "  <thead>\n",
       "    <tr style=\"text-align: right;\">\n",
       "      <th></th>\n",
       "      <th>ste_code</th>\n",
       "      <th>coty_name</th>\n",
       "      <th>coty_code</th>\n",
       "      <th>geometry</th>\n",
       "    </tr>\n",
       "  </thead>\n",
       "  <tbody>\n",
       "    <tr>\n",
       "      <th>63</th>\n",
       "      <td>1</td>\n",
       "      <td>Hale</td>\n",
       "      <td>[01065]</td>\n",
       "      <td>POLYGON ((-87.81256 32.52456, -87.80799 32.524...</td>\n",
       "    </tr>\n",
       "    <tr>\n",
       "      <th>1200</th>\n",
       "      <td>48</td>\n",
       "      <td>Hale</td>\n",
       "      <td>[48189]</td>\n",
       "      <td>POLYGON ((-101.56486 34.31249, -101.56537 34.3...</td>\n",
       "    </tr>\n",
       "  </tbody>\n",
       "</table>\n",
       "</div>"
      ],
      "text/plain": [
       "      ste_code coty_name coty_code  \\\n",
       "63           1      Hale   [01065]   \n",
       "1200        48      Hale   [48189]   \n",
       "\n",
       "                                               geometry  \n",
       "63    POLYGON ((-87.81256 32.52456, -87.80799 32.524...  \n",
       "1200  POLYGON ((-101.56486 34.31249, -101.56537 34.3...  "
      ]
     },
     "execution_count": 10,
     "metadata": {},
     "output_type": "execute_result"
    }
   ],
   "source": [
    "geojson.loc[(geojson['coty_name']=='Hale')]"
   ]
  },
  {
   "cell_type": "code",
   "execution_count": 11,
   "metadata": {},
   "outputs": [
    {
     "data": {
      "text/html": [
       "<div>\n",
       "<style scoped>\n",
       "    .dataframe tbody tr th:only-of-type {\n",
       "        vertical-align: middle;\n",
       "    }\n",
       "\n",
       "    .dataframe tbody tr th {\n",
       "        vertical-align: top;\n",
       "    }\n",
       "\n",
       "    .dataframe thead th {\n",
       "        text-align: right;\n",
       "    }\n",
       "</style>\n",
       "<table border=\"1\" class=\"dataframe\">\n",
       "  <thead>\n",
       "    <tr style=\"text-align: right;\">\n",
       "      <th></th>\n",
       "      <th>ste_code</th>\n",
       "      <th>coty_name</th>\n",
       "      <th>coty_code</th>\n",
       "      <th>geometry</th>\n",
       "      <th>STCODE</th>\n",
       "      <th>state_name_long</th>\n",
       "      <th>TOTMEMB</th>\n",
       "      <th>TOTRATE</th>\n",
       "      <th>TOTCHUR</th>\n",
       "    </tr>\n",
       "  </thead>\n",
       "  <tbody>\n",
       "    <tr>\n",
       "      <th>0</th>\n",
       "      <td>29.0</td>\n",
       "      <td>Harrison</td>\n",
       "      <td>[29081]</td>\n",
       "      <td>POLYGON ((-94.23224 40.57190, -94.23235 40.565...</td>\n",
       "      <td>29.0</td>\n",
       "      <td>Harrison</td>\n",
       "      <td>7764.0</td>\n",
       "      <td>55.036507</td>\n",
       "      <td>62.0</td>\n",
       "    </tr>\n",
       "    <tr>\n",
       "      <th>1</th>\n",
       "      <td>29.0</td>\n",
       "      <td>Jefferson</td>\n",
       "      <td>[29099]</td>\n",
       "      <td>POLYGON ((-90.63998 38.07655, -90.63989 38.076...</td>\n",
       "      <td>29.0</td>\n",
       "      <td>Jefferson</td>\n",
       "      <td>22208.0</td>\n",
       "      <td>58.431342</td>\n",
       "      <td>81.0</td>\n",
       "    </tr>\n",
       "    <tr>\n",
       "      <th>2</th>\n",
       "      <td>29.0</td>\n",
       "      <td>Newton</td>\n",
       "      <td>[29145]</td>\n",
       "      <td>POLYGON ((-94.05921 37.04813, -94.05967 37.048...</td>\n",
       "      <td>29.0</td>\n",
       "      <td>Newton</td>\n",
       "      <td>10825.0</td>\n",
       "      <td>38.332153</td>\n",
       "      <td>67.0</td>\n",
       "    </tr>\n",
       "    <tr>\n",
       "      <th>3</th>\n",
       "      <td>29.0</td>\n",
       "      <td>Wayne</td>\n",
       "      <td>[29223]</td>\n",
       "      <td>POLYGON ((-90.77955 37.05032, -90.76834 37.050...</td>\n",
       "      <td>29.0</td>\n",
       "      <td>Wayne</td>\n",
       "      <td>3825.0</td>\n",
       "      <td>36.380065</td>\n",
       "      <td>38.0</td>\n",
       "    </tr>\n",
       "    <tr>\n",
       "      <th>4</th>\n",
       "      <td>30.0</td>\n",
       "      <td>Lincoln</td>\n",
       "      <td>[30053]</td>\n",
       "      <td>POLYGON ((-114.72705 49.00051, -114.75952 49.0...</td>\n",
       "      <td>30.0</td>\n",
       "      <td>Lincoln</td>\n",
       "      <td>2692.0</td>\n",
       "      <td>30.967445</td>\n",
       "      <td>19.0</td>\n",
       "    </tr>\n",
       "  </tbody>\n",
       "</table>\n",
       "</div>"
      ],
      "text/plain": [
       "   ste_code  coty_name coty_code  \\\n",
       "0      29.0   Harrison   [29081]   \n",
       "1      29.0  Jefferson   [29099]   \n",
       "2      29.0     Newton   [29145]   \n",
       "3      29.0      Wayne   [29223]   \n",
       "4      30.0    Lincoln   [30053]   \n",
       "\n",
       "                                            geometry  STCODE state_name_long  \\\n",
       "0  POLYGON ((-94.23224 40.57190, -94.23235 40.565...    29.0        Harrison   \n",
       "1  POLYGON ((-90.63998 38.07655, -90.63989 38.076...    29.0       Jefferson   \n",
       "2  POLYGON ((-94.05921 37.04813, -94.05967 37.048...    29.0          Newton   \n",
       "3  POLYGON ((-90.77955 37.05032, -90.76834 37.050...    29.0           Wayne   \n",
       "4  POLYGON ((-114.72705 49.00051, -114.75952 49.0...    30.0         Lincoln   \n",
       "\n",
       "   TOTMEMB    TOTRATE  TOTCHUR  \n",
       "0   7764.0  55.036507     62.0  \n",
       "1  22208.0  58.431342     81.0  \n",
       "2  10825.0  38.332153     67.0  \n",
       "3   3825.0  36.380065     38.0  \n",
       "4   2692.0  30.967445     19.0  "
      ]
     },
     "execution_count": 11,
     "metadata": {},
     "output_type": "execute_result"
    }
   ],
   "source": [
    "df_final = geojson.merge(map_df, left_on=['coty_name','ste_code'], right_on=[\"state_name_long\",'STCODE'], how=\"outer\") \n",
    "df_final = df_final[~df_final['geometry'].isna()]\n",
    "df_final.head()"
   ]
  },
  {
   "cell_type": "code",
   "execution_count": 12,
   "metadata": {},
   "outputs": [],
   "source": [
    "us_map = folium.Map(location=[40, -96], zoom_start=4,tiles='openstreetmap')\n",
    "us_map1 = folium.Map(location=[40, -96], zoom_start=4,tiles='openstreetmap')\n",
    "us_map2 = folium.Map(location=[40, -96], zoom_start=4,tiles='openstreetmap')"
   ]
  },
  {
   "cell_type": "markdown",
   "metadata": {},
   "source": [
    "#### Map of Total Believers"
   ]
  },
  {
   "cell_type": "code",
   "execution_count": null,
   "metadata": {},
   "outputs": [],
   "source": [
    "custom_scale = (df['TOTMEMB'].quantile((0,0.2,0.4,0.6,0.8,1))).tolist()\n",
    "folium.Choropleth(\n",
    "            geo_data=geojson,\n",
    "            data=df,\n",
    "            columns=['state_name_long', 'TOTMEMB'],  #Here we tell folium to get the county fips and plot new_cases_7days metric for each county\n",
    "            key_on='feature.properties.coty_name', #Here we grab the geometries/county boundaries from the geojson file using the key 'coty_code' which is the same as county fips\n",
    "            threshold_scale=custom_scale, #use the custom scale we created for legend\n",
    "            fill_color='YlOrRd',\n",
    "            nan_fill_color=\"White\", #Use white color if there is no data available for the county\n",
    "            fill_opacity=0.7,\n",
    "            line_opacity=0.2,\n",
    "            legend_name='Total believers ', #title of the legend\n",
    "            highlight=True,\n",
    "            line_color='black').add_to(us_map) \n",
    "\n",
    "folium.features.GeoJson(\n",
    "                    data=df_final,\n",
    "                    name='Total Believers',\n",
    "                    smooth_factor=2,\n",
    "                    style_function=lambda x: {'color':'black','fillColor':'transparent','weight':0.5},\n",
    "                    tooltip=folium.features.GeoJsonTooltip(\n",
    "                        fields=['ste_code',\n",
    "                                'coty_name',\n",
    "                                'coty_code',\n",
    "                                'TOTMEMB'\n",
    "                               ],\n",
    "                        aliases=[\"Code of the State:\",\n",
    "                                 \"County Name:\",\n",
    "                                 \"State Name Long\",\n",
    "                                 \"Total Member of the county:\"\n",
    "                                ], \n",
    "                        localize=True,\n",
    "                        sticky=False,\n",
    "                        labels=True,\n",
    "                        style=\"\"\"\n",
    "                            background-color: #F0EFEF;\n",
    "                            border: 2px solid black;\n",
    "                            border-radius: 3px;\n",
    "                            box-shadow: 3px;\n",
    "                        \"\"\",\n",
    "                        max_width=800,),\n",
    "                            highlight_function=lambda x: {'weight':3,'fillColor':'grey'},\n",
    "                        ).add_to(us_map)   \n",
    "\n",
    "us_map\n",
    "\n",
    "####################### BEING TOO HEAVY FOR THE NOTEBOOK, WE OPTED TO CLEAR THIS OUTPUT ######################################"
   ]
  },
  {
   "cell_type": "markdown",
   "metadata": {},
   "source": [
    "The map illustrates a widespread presence of believers across various counties. Notably, in the eastern part of America, there is a higher concentration of believers, which is expected considering the larger population density in that region.\n",
    "\n",
    "#### Map of Total Rate "
   ]
  },
  {
   "cell_type": "code",
   "execution_count": null,
   "metadata": {},
   "outputs": [],
   "source": [
    "custom_scale1 = (df['TOTRATE'].quantile((0,0.2,0.4,0.6,0.8,1))).tolist()\n",
    "folium.Choropleth(\n",
    "            geo_data=geojson,\n",
    "            data=df,\n",
    "            columns=['state_name_long', 'TOTRATE'],  #Here we tell folium to get the county fips and plot new_cases_7days metric for each county\n",
    "            key_on='feature.properties.coty_name', #Here we grab the geometries/county boundaries from the geojson file using the key 'coty_code' which is the same as county fips\n",
    "            threshold_scale=custom_scale1, #use the custom scale we created for legend\n",
    "            fill_color='YlGnBu',\n",
    "            nan_fill_color=\"White\", #Use white color if there is no data available for the county\n",
    "            fill_opacity=0.7,\n",
    "            line_opacity=0.2,\n",
    "            legend_name='Total Rate ', #title of the legend\n",
    "            highlight=True,\n",
    "            line_color='black').add_to(us_map1) \n",
    "\n",
    "folium.features.GeoJson(\n",
    "                    data=df_final,\n",
    "                    name='Total Rate',\n",
    "                    smooth_factor=2,\n",
    "                    style_function=lambda x: {'color':'black','fillColor':'transparent','weight':0.5},\n",
    "                    tooltip=folium.features.GeoJsonTooltip(\n",
    "                        fields=['ste_code',\n",
    "                                'coty_name',\n",
    "                                'coty_code',\n",
    "                                'TOTRATE'\n",
    "                               ],\n",
    "                        aliases=[\"Code of the State:\",\n",
    "                                 \"County Name:\",\n",
    "                                 \"State Name Long\",\n",
    "                                 \"Total Rate of the county:\"\n",
    "                                ], \n",
    "                        localize=True,\n",
    "                        sticky=False,\n",
    "                        labels=True,\n",
    "                        style=\"\"\"\n",
    "                            background-color: #F0EFEF;\n",
    "                            border: 2px solid black;\n",
    "                            border-radius: 3px;\n",
    "                            box-shadow: 3px;\n",
    "                        \"\"\",\n",
    "                        max_width=800,),\n",
    "                            highlight_function=lambda x: {'weight':3,'fillColor':'grey'},\n",
    "                        ).add_to(us_map1)   \n",
    "\n",
    "us_map1\n",
    "\n",
    "####################### BEING TOO HEAVY FOR THE NOTEBOOK, WE OPTED TO CLEAR THIS OUTPUT ######################################"
   ]
  },
  {
   "cell_type": "markdown",
   "metadata": {},
   "source": [
    "The map reveals that the overall rate is elevated in the northern region of America, indicated by the prevalence of darker colors in those counties."
   ]
  },
  {
   "cell_type": "code",
   "execution_count": 15,
   "metadata": {},
   "outputs": [
    {
     "data": {
      "text/plain": [
       "6"
      ]
     },
     "execution_count": 15,
     "metadata": {},
     "output_type": "execute_result"
    }
   ],
   "source": [
    "del us_map1,us_map\n",
    "gc.collect()"
   ]
  },
  {
   "cell_type": "markdown",
   "metadata": {},
   "source": [
    "#### Map of Total Churches "
   ]
  },
  {
   "cell_type": "code",
   "execution_count": null,
   "metadata": {},
   "outputs": [],
   "source": [
    "custom_scale2 = (df['TOTCHUR'].quantile((0,0.2,0.4,0.6,0.8,1))).tolist()\n",
    "folium.Choropleth(\n",
    "            geo_data=geojson,\n",
    "            data=df,\n",
    "            columns=['state_name_long', 'TOTCHUR'],  #Here we tell folium to get the county fips and plot new_cases_7days metric for each county\n",
    "            key_on='feature.properties.coty_name', #Here we grab the geometries/county boundaries from the geojson file using the key 'coty_code' which is the same as county fips\n",
    "            threshold_scale=custom_scale2, #use the custom scale we created for legend\n",
    "            fill_color='BuGn',\n",
    "            nan_fill_color=\"White\", #Use white color if there is no data available for the county\n",
    "            fill_opacity=0.7,\n",
    "            line_opacity=0.2,\n",
    "            legend_name='Total Churches ', #title of the legend\n",
    "            highlight=True,\n",
    "            line_color='black').add_to(us_map2) \n",
    "\n",
    "# folium.features.GeoJson(\n",
    "#                     data=df_final,\n",
    "#                     name='Total Churches',\n",
    "#                     smooth_factor=2,\n",
    "                    # style_function=lambda x: {'color':'black','fillColor':'transparent','weight':0.5},\n",
    "                    # tooltip=folium.features.GeoJsonTooltip(\n",
    "                    #     fields=['ste_code',\n",
    "                    #             'coty_name',\n",
    "                    #             'coty_code',\n",
    "                    #             'TOTCHUR'\n",
    "                    #            ],\n",
    "                    #     aliases=[\"Code of the State:\",\n",
    "                    #              \"County Name:\",\n",
    "                    #              \"State Name Long\",\n",
    "                    #              \"Total Churches of the county:\"\n",
    "                    #             ], \n",
    "                    #     localize=True,\n",
    "                    #     sticky=False,\n",
    "                    #     labels=True,\n",
    "                    #     style=\"\"\"\n",
    "                    #         background-color: #F0EFEF;\n",
    "                    #         border: 2px solid black;\n",
    "                    #         border-radius: 3px;\n",
    "                    #         box-shadow: 3px;\n",
    "                    #     \"\"\",\n",
    "                    #     max_width=800,),\n",
    "                    #         highlight_function=lambda x: {'weight':3,'fillColor':'grey'},\n",
    "                    #     ).add_to(us_map2)   \n",
    "\n",
    "us_map2\n",
    "####################### BEING TOO HEAVY FOR THE NOTEBOOK, WE OPTED TO CLEAR THIS OUTPUT ######################################"
   ]
  },
  {
   "cell_type": "code",
   "execution_count": 17,
   "metadata": {},
   "outputs": [
    {
     "data": {
      "text/plain": [
       "0"
      ]
     },
     "execution_count": 17,
     "metadata": {},
     "output_type": "execute_result"
    }
   ],
   "source": [
    "del us_map2,geojson\n",
    "gc.collect()"
   ]
  },
  {
   "cell_type": "markdown",
   "metadata": {},
   "source": [
    "It is evident that the majority of churches are situated on the eastern side of America, which is quite expected as a significant portion of the believers resides in this region.\n"
   ]
  }
 ],
 "metadata": {
  "kernelspec": {
   "display_name": "Python 3",
   "language": "python",
   "name": "python3"
  },
  "language_info": {
   "codemirror_mode": {
    "name": "ipython",
    "version": 3
   },
   "file_extension": ".py",
   "mimetype": "text/x-python",
   "name": "python",
   "nbconvert_exporter": "python",
   "pygments_lexer": "ipython3",
   "version": "3.12.0"
  }
 },
 "nbformat": 4,
 "nbformat_minor": 2
}
